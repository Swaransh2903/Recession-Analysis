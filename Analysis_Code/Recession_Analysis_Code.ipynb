{
 "cells": [
  {
   "cell_type": "code",
   "execution_count": 1,
   "id": "83aa158d",
   "metadata": {},
   "outputs": [],
   "source": [
    "import numpy as np \n",
    "import pandas as pd"
   ]
  },
  {
   "cell_type": "code",
   "execution_count": 2,
   "id": "d3e46925",
   "metadata": {},
   "outputs": [],
   "source": [
    "dataset =pd.read_csv(r\"layoffs_data.csv\")"
   ]
  },
  {
   "cell_type": "code",
   "execution_count": 3,
   "id": "b55665c7",
   "metadata": {
    "scrolled": true
   },
   "outputs": [
    {
     "data": {
      "text/html": [
       "<div>\n",
       "<style scoped>\n",
       "    .dataframe tbody tr th:only-of-type {\n",
       "        vertical-align: middle;\n",
       "    }\n",
       "\n",
       "    .dataframe tbody tr th {\n",
       "        vertical-align: top;\n",
       "    }\n",
       "\n",
       "    .dataframe thead th {\n",
       "        text-align: right;\n",
       "    }\n",
       "</style>\n",
       "<table border=\"1\" class=\"dataframe\">\n",
       "  <thead>\n",
       "    <tr style=\"text-align: right;\">\n",
       "      <th></th>\n",
       "      <th>Company</th>\n",
       "      <th>Location_HQ</th>\n",
       "      <th>Industry</th>\n",
       "      <th>Laid_Off_Count</th>\n",
       "      <th>Percentage</th>\n",
       "      <th>Date</th>\n",
       "      <th>Source</th>\n",
       "      <th>Funds_Raised</th>\n",
       "      <th>Stage</th>\n",
       "      <th>Date_Added</th>\n",
       "      <th>Country</th>\n",
       "      <th>List_of_Employees_Laid_Off</th>\n",
       "    </tr>\n",
       "  </thead>\n",
       "  <tbody>\n",
       "    <tr>\n",
       "      <th>0</th>\n",
       "      <td>Dunzo</td>\n",
       "      <td>Bengaluru</td>\n",
       "      <td>Food</td>\n",
       "      <td>300.0</td>\n",
       "      <td>0.30</td>\n",
       "      <td>2023-04-05</td>\n",
       "      <td>https://economictimes.indiatimes.com/tech/news...</td>\n",
       "      <td>382.0</td>\n",
       "      <td>Unknown</td>\n",
       "      <td>2023-04-06 03:11:10</td>\n",
       "      <td>India</td>\n",
       "      <td>Unknown</td>\n",
       "    </tr>\n",
       "    <tr>\n",
       "      <th>1</th>\n",
       "      <td>Amplitude</td>\n",
       "      <td>SF Bay Area</td>\n",
       "      <td>Data</td>\n",
       "      <td>99.0</td>\n",
       "      <td>0.13</td>\n",
       "      <td>2023-04-05</td>\n",
       "      <td>https://amplitude.com/blog/team-update</td>\n",
       "      <td>311.0</td>\n",
       "      <td>Post-IPO</td>\n",
       "      <td>2023-04-05 18:14:10</td>\n",
       "      <td>United States</td>\n",
       "      <td>Unknown</td>\n",
       "    </tr>\n",
       "    <tr>\n",
       "      <th>2</th>\n",
       "      <td>1K Kirana</td>\n",
       "      <td>Gurugram</td>\n",
       "      <td>Retail</td>\n",
       "      <td>600.0</td>\n",
       "      <td>0.40</td>\n",
       "      <td>2023-04-04</td>\n",
       "      <td>https://www.moneycontrol.com/news/business/sta...</td>\n",
       "      <td>NaN</td>\n",
       "      <td>Series B</td>\n",
       "      <td>2023-04-04 09:45:37</td>\n",
       "      <td>India</td>\n",
       "      <td>Unknown</td>\n",
       "    </tr>\n",
       "    <tr>\n",
       "      <th>3</th>\n",
       "      <td>Boost</td>\n",
       "      <td>New York City</td>\n",
       "      <td>Finance</td>\n",
       "      <td>15.0</td>\n",
       "      <td>0.20</td>\n",
       "      <td>2023-04-04</td>\n",
       "      <td>https://boostinsurance.com/blog/a-message-from...</td>\n",
       "      <td>37.0</td>\n",
       "      <td>Series B</td>\n",
       "      <td>2023-04-05 00:23:08</td>\n",
       "      <td>United States</td>\n",
       "      <td>Unknown</td>\n",
       "    </tr>\n",
       "    <tr>\n",
       "      <th>4</th>\n",
       "      <td>Cin7</td>\n",
       "      <td>Auckland</td>\n",
       "      <td>Retail</td>\n",
       "      <td>NaN</td>\n",
       "      <td>NaN</td>\n",
       "      <td>2023-04-04</td>\n",
       "      <td>https://www.nzherald.co.nz/business/post-pande...</td>\n",
       "      <td>NaN</td>\n",
       "      <td>Private Equity</td>\n",
       "      <td>2023-04-05 16:25:17</td>\n",
       "      <td>New Zealand</td>\n",
       "      <td>Unknown</td>\n",
       "    </tr>\n",
       "  </tbody>\n",
       "</table>\n",
       "</div>"
      ],
      "text/plain": [
       "     Company    Location_HQ Industry  Laid_Off_Count  Percentage        Date  \\\n",
       "0      Dunzo      Bengaluru     Food           300.0        0.30  2023-04-05   \n",
       "1  Amplitude    SF Bay Area     Data            99.0        0.13  2023-04-05   \n",
       "2  1K Kirana       Gurugram   Retail           600.0        0.40  2023-04-04   \n",
       "3      Boost  New York City  Finance            15.0        0.20  2023-04-04   \n",
       "4       Cin7       Auckland   Retail             NaN         NaN  2023-04-04   \n",
       "\n",
       "                                              Source  Funds_Raised  \\\n",
       "0  https://economictimes.indiatimes.com/tech/news...         382.0   \n",
       "1             https://amplitude.com/blog/team-update         311.0   \n",
       "2  https://www.moneycontrol.com/news/business/sta...           NaN   \n",
       "3  https://boostinsurance.com/blog/a-message-from...          37.0   \n",
       "4  https://www.nzherald.co.nz/business/post-pande...           NaN   \n",
       "\n",
       "            Stage           Date_Added        Country  \\\n",
       "0         Unknown  2023-04-06 03:11:10          India   \n",
       "1        Post-IPO  2023-04-05 18:14:10  United States   \n",
       "2        Series B  2023-04-04 09:45:37          India   \n",
       "3        Series B  2023-04-05 00:23:08  United States   \n",
       "4  Private Equity  2023-04-05 16:25:17    New Zealand   \n",
       "\n",
       "  List_of_Employees_Laid_Off  \n",
       "0                    Unknown  \n",
       "1                    Unknown  \n",
       "2                    Unknown  \n",
       "3                    Unknown  \n",
       "4                    Unknown  "
      ]
     },
     "execution_count": 3,
     "metadata": {},
     "output_type": "execute_result"
    }
   ],
   "source": [
    "dataset.head()"
   ]
  },
  {
   "cell_type": "markdown",
   "id": "5c8a0205",
   "metadata": {},
   "source": [
    "# Preprocessing the data:"
   ]
  },
  {
   "cell_type": "markdown",
   "id": "275906dc",
   "metadata": {},
   "source": [
    "# Removing unnecessary columns:"
   ]
  },
  {
   "cell_type": "code",
   "execution_count": 4,
   "id": "eb9ba397",
   "metadata": {
    "scrolled": true
   },
   "outputs": [
    {
     "data": {
      "text/html": [
       "<div>\n",
       "<style scoped>\n",
       "    .dataframe tbody tr th:only-of-type {\n",
       "        vertical-align: middle;\n",
       "    }\n",
       "\n",
       "    .dataframe tbody tr th {\n",
       "        vertical-align: top;\n",
       "    }\n",
       "\n",
       "    .dataframe thead th {\n",
       "        text-align: right;\n",
       "    }\n",
       "</style>\n",
       "<table border=\"1\" class=\"dataframe\">\n",
       "  <thead>\n",
       "    <tr style=\"text-align: right;\">\n",
       "      <th></th>\n",
       "      <th>Company</th>\n",
       "      <th>Location_HQ</th>\n",
       "      <th>Industry</th>\n",
       "      <th>Laid_Off_Count</th>\n",
       "      <th>Percentage</th>\n",
       "      <th>Date</th>\n",
       "      <th>Funds_Raised</th>\n",
       "      <th>Stage</th>\n",
       "      <th>Country</th>\n",
       "    </tr>\n",
       "  </thead>\n",
       "  <tbody>\n",
       "    <tr>\n",
       "      <th>0</th>\n",
       "      <td>Dunzo</td>\n",
       "      <td>Bengaluru</td>\n",
       "      <td>Food</td>\n",
       "      <td>300.0</td>\n",
       "      <td>0.30</td>\n",
       "      <td>2023-04-05</td>\n",
       "      <td>382.0</td>\n",
       "      <td>Unknown</td>\n",
       "      <td>India</td>\n",
       "    </tr>\n",
       "    <tr>\n",
       "      <th>1</th>\n",
       "      <td>Amplitude</td>\n",
       "      <td>SF Bay Area</td>\n",
       "      <td>Data</td>\n",
       "      <td>99.0</td>\n",
       "      <td>0.13</td>\n",
       "      <td>2023-04-05</td>\n",
       "      <td>311.0</td>\n",
       "      <td>Post-IPO</td>\n",
       "      <td>United States</td>\n",
       "    </tr>\n",
       "    <tr>\n",
       "      <th>2</th>\n",
       "      <td>1K Kirana</td>\n",
       "      <td>Gurugram</td>\n",
       "      <td>Retail</td>\n",
       "      <td>600.0</td>\n",
       "      <td>0.40</td>\n",
       "      <td>2023-04-04</td>\n",
       "      <td>NaN</td>\n",
       "      <td>Series B</td>\n",
       "      <td>India</td>\n",
       "    </tr>\n",
       "    <tr>\n",
       "      <th>3</th>\n",
       "      <td>Boost</td>\n",
       "      <td>New York City</td>\n",
       "      <td>Finance</td>\n",
       "      <td>15.0</td>\n",
       "      <td>0.20</td>\n",
       "      <td>2023-04-04</td>\n",
       "      <td>37.0</td>\n",
       "      <td>Series B</td>\n",
       "      <td>United States</td>\n",
       "    </tr>\n",
       "    <tr>\n",
       "      <th>4</th>\n",
       "      <td>Cin7</td>\n",
       "      <td>Auckland</td>\n",
       "      <td>Retail</td>\n",
       "      <td>NaN</td>\n",
       "      <td>NaN</td>\n",
       "      <td>2023-04-04</td>\n",
       "      <td>NaN</td>\n",
       "      <td>Private Equity</td>\n",
       "      <td>New Zealand</td>\n",
       "    </tr>\n",
       "  </tbody>\n",
       "</table>\n",
       "</div>"
      ],
      "text/plain": [
       "     Company    Location_HQ Industry  Laid_Off_Count  Percentage        Date  \\\n",
       "0      Dunzo      Bengaluru     Food           300.0        0.30  2023-04-05   \n",
       "1  Amplitude    SF Bay Area     Data            99.0        0.13  2023-04-05   \n",
       "2  1K Kirana       Gurugram   Retail           600.0        0.40  2023-04-04   \n",
       "3      Boost  New York City  Finance            15.0        0.20  2023-04-04   \n",
       "4       Cin7       Auckland   Retail             NaN         NaN  2023-04-04   \n",
       "\n",
       "   Funds_Raised           Stage        Country  \n",
       "0         382.0         Unknown          India  \n",
       "1         311.0        Post-IPO  United States  \n",
       "2           NaN        Series B          India  \n",
       "3          37.0        Series B  United States  \n",
       "4           NaN  Private Equity    New Zealand  "
      ]
     },
     "execution_count": 4,
     "metadata": {},
     "output_type": "execute_result"
    }
   ],
   "source": [
    "dataset = dataset.drop(['Source','List_of_Employees_Laid_Off','Date_Added'],axis=1)\n",
    "dataset.head()"
   ]
  },
  {
   "cell_type": "markdown",
   "id": "bbe265c2",
   "metadata": {},
   "source": [
    "# Filling missing values:"
   ]
  },
  {
   "cell_type": "code",
   "execution_count": 5,
   "id": "feaaba8a",
   "metadata": {},
   "outputs": [],
   "source": [
    "# first we'll list down the columns that contain missing values:"
   ]
  },
  {
   "cell_type": "code",
   "execution_count": 6,
   "id": "1b16ed53",
   "metadata": {},
   "outputs": [
    {
     "name": "stdout",
     "output_type": "stream",
     "text": [
      "Company           False\n",
      "Location_HQ       False\n",
      "Industry          False\n",
      "Laid_Off_Count     True\n",
      "Percentage         True\n",
      "Date               True\n",
      "Funds_Raised       True\n",
      "Stage             False\n",
      "Country           False\n",
      "dtype: bool\n"
     ]
    }
   ],
   "source": [
    "# creating a boolean mask indicating which values are missing:\n",
    "mask = dataset.isna()\n",
    "# use the any() method to check which columns have at least one missing value:\n",
    "columns_with_missing_value = mask.any()\n",
    "print(columns_with_missing_value)"
   ]
  },
  {
   "cell_type": "code",
   "execution_count": 7,
   "id": "c3a37345",
   "metadata": {},
   "outputs": [],
   "source": [
    "# Now we'll be filling the missing values accordingly(according to the column):"
   ]
  },
  {
   "cell_type": "code",
   "execution_count": 8,
   "id": "691f077c",
   "metadata": {},
   "outputs": [],
   "source": [
    "dataset['Laid_Off_Count'] = dataset['Laid_Off_Count'].fillna(dataset['Laid_Off_Count'].mean())\n",
    "dataset['Percentage'] = dataset['Percentage'].fillna(dataset['Percentage'].mean())\n",
    "dataset['Funds_Raised'] = dataset['Funds_Raised'].fillna(dataset['Funds_Raised'].mean())\n",
    "# To fill the Date column missing values we'll first convert the date column to datetime object and then 'fill' missing\n",
    "# values in 'date' column with previous value:\n",
    "dataset['Date'] = pd.to_datetime(dataset['Date'])\n",
    "dataset['Date'] = dataset['Date'].fillna(method='ffill')\n",
    "                                                             "
   ]
  },
  {
   "cell_type": "code",
   "execution_count": 9,
   "id": "0e9787ec",
   "metadata": {},
   "outputs": [
    {
     "data": {
      "text/html": [
       "<div>\n",
       "<style scoped>\n",
       "    .dataframe tbody tr th:only-of-type {\n",
       "        vertical-align: middle;\n",
       "    }\n",
       "\n",
       "    .dataframe tbody tr th {\n",
       "        vertical-align: top;\n",
       "    }\n",
       "\n",
       "    .dataframe thead th {\n",
       "        text-align: right;\n",
       "    }\n",
       "</style>\n",
       "<table border=\"1\" class=\"dataframe\">\n",
       "  <thead>\n",
       "    <tr style=\"text-align: right;\">\n",
       "      <th></th>\n",
       "      <th>Company</th>\n",
       "      <th>Location_HQ</th>\n",
       "      <th>Industry</th>\n",
       "      <th>Laid_Off_Count</th>\n",
       "      <th>Percentage</th>\n",
       "      <th>Date</th>\n",
       "      <th>Funds_Raised</th>\n",
       "      <th>Stage</th>\n",
       "      <th>Country</th>\n",
       "    </tr>\n",
       "  </thead>\n",
       "  <tbody>\n",
       "    <tr>\n",
       "      <th>0</th>\n",
       "      <td>Dunzo</td>\n",
       "      <td>Bengaluru</td>\n",
       "      <td>Food</td>\n",
       "      <td>300.000000</td>\n",
       "      <td>0.300000</td>\n",
       "      <td>2023-04-05</td>\n",
       "      <td>382.000000</td>\n",
       "      <td>Unknown</td>\n",
       "      <td>India</td>\n",
       "    </tr>\n",
       "    <tr>\n",
       "      <th>1</th>\n",
       "      <td>Amplitude</td>\n",
       "      <td>SF Bay Area</td>\n",
       "      <td>Data</td>\n",
       "      <td>99.000000</td>\n",
       "      <td>0.130000</td>\n",
       "      <td>2023-04-05</td>\n",
       "      <td>311.000000</td>\n",
       "      <td>Post-IPO</td>\n",
       "      <td>United States</td>\n",
       "    </tr>\n",
       "    <tr>\n",
       "      <th>2</th>\n",
       "      <td>1K Kirana</td>\n",
       "      <td>Gurugram</td>\n",
       "      <td>Retail</td>\n",
       "      <td>600.000000</td>\n",
       "      <td>0.400000</td>\n",
       "      <td>2023-04-04</td>\n",
       "      <td>823.746888</td>\n",
       "      <td>Series B</td>\n",
       "      <td>India</td>\n",
       "    </tr>\n",
       "    <tr>\n",
       "      <th>3</th>\n",
       "      <td>Boost</td>\n",
       "      <td>New York City</td>\n",
       "      <td>Finance</td>\n",
       "      <td>15.000000</td>\n",
       "      <td>0.200000</td>\n",
       "      <td>2023-04-04</td>\n",
       "      <td>37.000000</td>\n",
       "      <td>Series B</td>\n",
       "      <td>United States</td>\n",
       "    </tr>\n",
       "    <tr>\n",
       "      <th>4</th>\n",
       "      <td>Cin7</td>\n",
       "      <td>Auckland</td>\n",
       "      <td>Retail</td>\n",
       "      <td>254.399408</td>\n",
       "      <td>0.257984</td>\n",
       "      <td>2023-04-04</td>\n",
       "      <td>823.746888</td>\n",
       "      <td>Private Equity</td>\n",
       "      <td>New Zealand</td>\n",
       "    </tr>\n",
       "  </tbody>\n",
       "</table>\n",
       "</div>"
      ],
      "text/plain": [
       "     Company    Location_HQ Industry  Laid_Off_Count  Percentage       Date  \\\n",
       "0      Dunzo      Bengaluru     Food      300.000000    0.300000 2023-04-05   \n",
       "1  Amplitude    SF Bay Area     Data       99.000000    0.130000 2023-04-05   \n",
       "2  1K Kirana       Gurugram   Retail      600.000000    0.400000 2023-04-04   \n",
       "3      Boost  New York City  Finance       15.000000    0.200000 2023-04-04   \n",
       "4       Cin7       Auckland   Retail      254.399408    0.257984 2023-04-04   \n",
       "\n",
       "   Funds_Raised           Stage        Country  \n",
       "0    382.000000         Unknown          India  \n",
       "1    311.000000        Post-IPO  United States  \n",
       "2    823.746888        Series B          India  \n",
       "3     37.000000        Series B  United States  \n",
       "4    823.746888  Private Equity    New Zealand  "
      ]
     },
     "execution_count": 9,
     "metadata": {},
     "output_type": "execute_result"
    }
   ],
   "source": [
    "dataset.head()"
   ]
  },
  {
   "cell_type": "markdown",
   "id": "e3352f1a",
   "metadata": {},
   "source": [
    "# Now to do the recession analysis,a more accurate measure woud be percentage of people laid off than laid_off_count itself.To see how different features impact the percentage of people laid off,we'll have to find the number of people laid off for particular industry,location etc."
   ]
  },
  {
   "cell_type": "code",
   "execution_count": 10,
   "id": "3f073556",
   "metadata": {
    "scrolled": true
   },
   "outputs": [
    {
     "name": "stdout",
     "output_type": "stream",
     "text": [
      "Industry\n",
      "Retail            70854.760355\n",
      "Consumer          65045.979290\n",
      "Finance           53048.346154\n",
      "Other             50747.769231\n",
      "Transportation    46659.976331\n",
      "Healthcare        43636.961538\n",
      "Food              37501.772189\n",
      "Real Estate       29012.973373\n",
      "Hardware          26988.795858\n",
      "Travel            22246.988166\n",
      "Crypto            21452.775148\n",
      "Education         20846.582840\n",
      "Marketing         20319.576923\n",
      "Sales             13979.198225\n",
      "Data              13595.381657\n",
      "Media             13575.381657\n",
      "HR                12303.384615\n",
      "Fitness           11441.994083\n",
      "Infrastructure    11127.387574\n",
      "Security          10558.189349\n",
      "Logistics          7078.792899\n",
      "Support            6830.192308\n",
      "Construction       5134.997041\n",
      "Recruiting         4061.997041\n",
      "Product            4031.393491\n",
      "Energy             2328.396450\n",
      "Legal              1599.198225\n",
      "Aerospace          1169.798817\n",
      "Manufacturing       382.399408\n",
      "Unknown             296.399408\n",
      "Name: Laid_Off_Count, dtype: float64\n"
     ]
    }
   ],
   "source": [
    "industry_laid_off_counts = dataset.groupby('Industry')['Laid_Off_Count'].sum()\n",
    "industry_laid_off_counts = industry_laid_off_counts.sort_values(ascending=False)\n",
    "print(industry_laid_off_counts)"
   ]
  },
  {
   "cell_type": "code",
   "execution_count": 11,
   "id": "c9e1808c",
   "metadata": {
    "scrolled": true
   },
   "outputs": [
    {
     "name": "stdout",
     "output_type": "stream",
     "text": [
      "Location_HQ\n",
      "SF Bay Area      190592.488166\n",
      "Seattle           52312.180473\n",
      "New York City     49802.952663\n",
      "Bengaluru         25565.192308\n",
      "Boston            20946.576923\n",
      "                     ...      \n",
      "Cork                 21.000000\n",
      "Kiel                 21.000000\n",
      "Kansas City          20.000000\n",
      "Gydnia               13.000000\n",
      "Indianapolis          5.000000\n",
      "Name: Laid_Off_Count, Length: 202, dtype: float64\n"
     ]
    }
   ],
   "source": [
    "location_laid_off_counts = dataset.groupby('Location_HQ')['Laid_Off_Count'].sum()\n",
    "location_laid_off_counts = location_laid_off_counts.sort_values(ascending=False)\n",
    "print(location_laid_off_counts)"
   ]
  },
  {
   "cell_type": "code",
   "execution_count": 12,
   "id": "edfdb7b3",
   "metadata": {
    "scrolled": true
   },
   "outputs": [
    {
     "name": "stdout",
     "output_type": "stream",
     "text": [
      "Country\n",
      "United States           432889.680473\n",
      "India                    43569.585799\n",
      "Netherlands              18237.597633\n",
      "United Kingdom           16265.582840\n",
      "Brazil                   12934.994083\n",
      "Sweden                   12296.597633\n",
      "Germany                  12076.192308\n",
      "Canada                   11726.988166\n",
      "Australia                 9232.784024\n",
      "Singapore                 9047.792899\n",
      "China                     8394.594675\n",
      "Indonesia                 7119.393491\n",
      "Israel                    6181.994083\n",
      "Nigeria                   3408.396450\n",
      "New Zealand               1887.597633\n",
      "France                    1688.198225\n",
      "United Arab Emirates      1503.798817\n",
      "Hong Kong                 1238.798817\n",
      "Finland                   1013.198225\n",
      "Austria                    894.399408\n",
      "Colombia                   893.198225\n",
      "Switzerland                870.798817\n",
      "Kenya                      857.798817\n",
      "Spain                      847.798817\n",
      "Seychelles                 838.198225\n",
      "Pakistan                   763.198225\n",
      "Vietnam                    763.198225\n",
      "Norway                     648.798817\n",
      "Ireland                    641.399408\n",
      "South Korea                604.399408\n",
      "Argentina                  577.399408\n",
      "Luxembourg                 553.798817\n",
      "Chile                      538.798817\n",
      "Mexico                     524.399408\n",
      "Egypt                      508.798817\n",
      "Russia                     400.000000\n",
      "Portugal                   369.399408\n",
      "Malaysia                   354.399408\n",
      "Estonia                    333.000000\n",
      "Senegal                    300.000000\n",
      "Poland                     292.399408\n",
      "Greece                     254.399408\n",
      "Peru                       254.399408\n",
      "Uruguay                    254.399408\n",
      "Bahrain                    254.399408\n",
      "Belgium                    254.399408\n",
      "Turkey                     254.399408\n",
      "Czech Republic             254.399408\n",
      "Ghana                      254.399408\n",
      "South Africa               254.399408\n",
      "Italy                      254.399408\n",
      "Hungary                    254.399408\n",
      "Denmark                    240.000000\n",
      "Myanmar                    200.000000\n",
      "Japan                      165.000000\n",
      "Bulgaria                   120.000000\n",
      "Romania                     80.000000\n",
      "Lithuania                   60.000000\n",
      "Thailand                    55.000000\n",
      "Ukraine                     50.000000\n",
      "Name: Laid_Off_Count, dtype: float64\n"
     ]
    }
   ],
   "source": [
    "country_laid_off_counts = dataset.groupby('Country')['Laid_Off_Count'].sum()\n",
    "country_laid_off_counts = country_laid_off_counts.sort_values(ascending=False)\n",
    "print(country_laid_off_counts)"
   ]
  },
  {
   "cell_type": "markdown",
   "id": "e3d85f2f",
   "metadata": {},
   "source": [
    "# Now let's visualize the obtained result via donut charts:"
   ]
  },
  {
   "cell_type": "code",
   "execution_count": 13,
   "id": "e6e35ba5",
   "metadata": {},
   "outputs": [
    {
     "data": {
      "image/png": "[encoded data removed]",
      "text/plain": [
       "<Figure size 720x720 with 1 Axes>"
      ]
     },
     "metadata": {},
     "output_type": "display_data"
    },
    {
     "data": {
      "image/png": "[encoded data removed]",
      "text/plain": [
       "<Figure size 720x720 with 1 Axes>"
      ]
     },
     "metadata": {},
     "output_type": "display_data"
    },
    {
     "data": {
      "image/png": "[encoded data removed]",
      "text/plain": [
       "<Figure size 720x720 with 1 Axes>"
      ]
     },
     "metadata": {},
     "output_type": "display_data"
    }
   ],
   "source": [
    "import matplotlib.pyplot as plt\n",
    "# split industries into groups\n",
    "# groups = [dataset['Industry'][i:i+10] for i in range(0, len(dataset['Industry']), 10)]\n",
    "# # create a donut chart for each group of industries\n",
    "# for i, group in enumerate(groups):\n",
    "#     # get data for the current group of industries\n",
    "#     data = dataset[dataset['Industry'].isin(group)]\n",
    "#     values = dataset['Laid_Off_Count']\n",
    "#     labels = dataset['Industry']\n",
    "    \n",
    "#     # create a donut chart\n",
    "#     fig, ax = plt.subplots(figsize=(8, 8))\n",
    "#     ax.pie(values, labels=labels, wedgeprops={'width': 0.5})\n",
    "#     ax.set_title(f'Laid Off Count for Industries {i*10}-{i*10+len(group)-1}')\n",
    "    \n",
    "#     plt.show()\n",
    "\n",
    "\n",
    "industry_laid_off_counts.plot(kind='pie',subplots=True,figsize=(10,10),autopct='%1.1f%%',startangle=90,counterclock=False,legend=False,stacked=True,wedgeprops={'width':0.5})\n",
    "plt.title('Number of people laid off for each industry')\n",
    "plt.show()\n",
    "location_laid_off_counts.plot(kind='pie',figsize=(10,10),autopct='%1.1f%%',startangle=90,wedgeprops={'width':0.5})\n",
    "plt.title('Number of people laid off for each location')\n",
    "plt.show()\n",
    "country_laid_off_counts.plot(kind='pie',figsize=(10,10),autopct='%1.1f%%',startangle=90,wedgeprops={'width':0.5})\n",
    "plt.title('Number of people laid off for each country')\n",
    "plt.show()"
   ]
  },
  {
   "cell_type": "markdown",
   "id": "58760a18",
   "metadata": {},
   "source": [
    "# Now let's do analysis of laid off count by country.We see that a majority of people have been laid off in America followed by India,Netherlands etc.We'll be seeing the factors affecting the lay off in top 5 five countries with most layoffs:"
   ]
  },
  {
   "cell_type": "code",
   "execution_count": 14,
   "id": "68be1646",
   "metadata": {},
   "outputs": [],
   "source": [
    "country_laid_off_counts_top_five = country_laid_off_counts[:5]"
   ]
  },
  {
   "cell_type": "code",
   "execution_count": 15,
   "id": "956dcb38",
   "metadata": {},
   "outputs": [
    {
     "data": {
      "text/plain": [
       "Country\n",
       "United States     432889.680473\n",
       "India              43569.585799\n",
       "Netherlands        18237.597633\n",
       "United Kingdom     16265.582840\n",
       "Brazil             12934.994083\n",
       "Name: Laid_Off_Count, dtype: float64"
      ]
     },
     "execution_count": 15,
     "metadata": {},
     "output_type": "execute_result"
    }
   ],
   "source": [
    "country_laid_off_counts_top_five"
   ]
  },
  {
   "cell_type": "markdown",
   "id": "c7107b8c",
   "metadata": {},
   "source": [
    "# In our original dataset we have the lay off count as well as the percentage(i.e the people who have been laid off account to what percentage of total number of employees in the company).We'll use these two informations to find total number of people in the organization.Then we'll be utilizing this information to calculate the total number of people across different industries in the top five countries that have been worstly affected by layoff and will find out what percentage of people have suffered from every industry in these countries."
   ]
  },
  {
   "cell_type": "code",
   "execution_count": 16,
   "id": "53595de9",
   "metadata": {},
   "outputs": [
    {
     "data": {
      "text/html": [
       "<div>\n",
       "<style scoped>\n",
       "    .dataframe tbody tr th:only-of-type {\n",
       "        vertical-align: middle;\n",
       "    }\n",
       "\n",
       "    .dataframe tbody tr th {\n",
       "        vertical-align: top;\n",
       "    }\n",
       "\n",
       "    .dataframe thead th {\n",
       "        text-align: right;\n",
       "    }\n",
       "</style>\n",
       "<table border=\"1\" class=\"dataframe\">\n",
       "  <thead>\n",
       "    <tr style=\"text-align: right;\">\n",
       "      <th></th>\n",
       "      <th>Company</th>\n",
       "      <th>Location_HQ</th>\n",
       "      <th>Industry</th>\n",
       "      <th>Laid_Off_Count</th>\n",
       "      <th>Percentage</th>\n",
       "      <th>Date</th>\n",
       "      <th>Funds_Raised</th>\n",
       "      <th>Stage</th>\n",
       "      <th>Country</th>\n",
       "      <th>employee_count</th>\n",
       "    </tr>\n",
       "  </thead>\n",
       "  <tbody>\n",
       "    <tr>\n",
       "      <th>0</th>\n",
       "      <td>Dunzo</td>\n",
       "      <td>Bengaluru</td>\n",
       "      <td>Food</td>\n",
       "      <td>300.000000</td>\n",
       "      <td>0.300000</td>\n",
       "      <td>2023-04-05</td>\n",
       "      <td>382.000000</td>\n",
       "      <td>Unknown</td>\n",
       "      <td>India</td>\n",
       "      <td>100000.000000</td>\n",
       "    </tr>\n",
       "    <tr>\n",
       "      <th>1</th>\n",
       "      <td>Amplitude</td>\n",
       "      <td>SF Bay Area</td>\n",
       "      <td>Data</td>\n",
       "      <td>99.000000</td>\n",
       "      <td>0.130000</td>\n",
       "      <td>2023-04-05</td>\n",
       "      <td>311.000000</td>\n",
       "      <td>Post-IPO</td>\n",
       "      <td>United States</td>\n",
       "      <td>76153.846154</td>\n",
       "    </tr>\n",
       "    <tr>\n",
       "      <th>2</th>\n",
       "      <td>1K Kirana</td>\n",
       "      <td>Gurugram</td>\n",
       "      <td>Retail</td>\n",
       "      <td>600.000000</td>\n",
       "      <td>0.400000</td>\n",
       "      <td>2023-04-04</td>\n",
       "      <td>823.746888</td>\n",
       "      <td>Series B</td>\n",
       "      <td>India</td>\n",
       "      <td>150000.000000</td>\n",
       "    </tr>\n",
       "    <tr>\n",
       "      <th>3</th>\n",
       "      <td>Boost</td>\n",
       "      <td>New York City</td>\n",
       "      <td>Finance</td>\n",
       "      <td>15.000000</td>\n",
       "      <td>0.200000</td>\n",
       "      <td>2023-04-04</td>\n",
       "      <td>37.000000</td>\n",
       "      <td>Series B</td>\n",
       "      <td>United States</td>\n",
       "      <td>7500.000000</td>\n",
       "    </tr>\n",
       "    <tr>\n",
       "      <th>4</th>\n",
       "      <td>Cin7</td>\n",
       "      <td>Auckland</td>\n",
       "      <td>Retail</td>\n",
       "      <td>254.399408</td>\n",
       "      <td>0.257984</td>\n",
       "      <td>2023-04-04</td>\n",
       "      <td>823.746888</td>\n",
       "      <td>Private Equity</td>\n",
       "      <td>New Zealand</td>\n",
       "      <td>98610.605337</td>\n",
       "    </tr>\n",
       "    <tr>\n",
       "      <th>...</th>\n",
       "      <td>...</td>\n",
       "      <td>...</td>\n",
       "      <td>...</td>\n",
       "      <td>...</td>\n",
       "      <td>...</td>\n",
       "      <td>...</td>\n",
       "      <td>...</td>\n",
       "      <td>...</td>\n",
       "      <td>...</td>\n",
       "      <td>...</td>\n",
       "    </tr>\n",
       "    <tr>\n",
       "      <th>2463</th>\n",
       "      <td>HopSkipDrive</td>\n",
       "      <td>Los Angeles</td>\n",
       "      <td>Transportation</td>\n",
       "      <td>8.000000</td>\n",
       "      <td>0.100000</td>\n",
       "      <td>2020-03-13</td>\n",
       "      <td>45.000000</td>\n",
       "      <td>Unknown</td>\n",
       "      <td>United States</td>\n",
       "      <td>8000.000000</td>\n",
       "    </tr>\n",
       "    <tr>\n",
       "      <th>2464</th>\n",
       "      <td>Panda Squad</td>\n",
       "      <td>SF Bay Area</td>\n",
       "      <td>Consumer</td>\n",
       "      <td>6.000000</td>\n",
       "      <td>0.750000</td>\n",
       "      <td>2020-03-13</td>\n",
       "      <td>1.000000</td>\n",
       "      <td>Seed</td>\n",
       "      <td>United States</td>\n",
       "      <td>800.000000</td>\n",
       "    </tr>\n",
       "    <tr>\n",
       "      <th>2465</th>\n",
       "      <td>Tamara Mellon</td>\n",
       "      <td>Los Angeles</td>\n",
       "      <td>Retail</td>\n",
       "      <td>20.000000</td>\n",
       "      <td>0.400000</td>\n",
       "      <td>2020-03-12</td>\n",
       "      <td>90.000000</td>\n",
       "      <td>Series C</td>\n",
       "      <td>United States</td>\n",
       "      <td>5000.000000</td>\n",
       "    </tr>\n",
       "    <tr>\n",
       "      <th>2466</th>\n",
       "      <td>EasyPost</td>\n",
       "      <td>Salt Lake City</td>\n",
       "      <td>Logistics</td>\n",
       "      <td>75.000000</td>\n",
       "      <td>0.257984</td>\n",
       "      <td>2020-03-11</td>\n",
       "      <td>12.000000</td>\n",
       "      <td>Series A</td>\n",
       "      <td>United States</td>\n",
       "      <td>29071.590418</td>\n",
       "    </tr>\n",
       "    <tr>\n",
       "      <th>2467</th>\n",
       "      <td>Blackbaud</td>\n",
       "      <td>Charleston</td>\n",
       "      <td>Other</td>\n",
       "      <td>500.000000</td>\n",
       "      <td>0.140000</td>\n",
       "      <td>2020-03-11</td>\n",
       "      <td>823.746888</td>\n",
       "      <td>Post-IPO</td>\n",
       "      <td>United States</td>\n",
       "      <td>357142.857143</td>\n",
       "    </tr>\n",
       "  </tbody>\n",
       "</table>\n",
       "<p>2468 rows × 10 columns</p>\n",
       "</div>"
      ],
      "text/plain": [
       "            Company     Location_HQ        Industry  Laid_Off_Count  \\\n",
       "0             Dunzo       Bengaluru            Food      300.000000   \n",
       "1         Amplitude     SF Bay Area            Data       99.000000   \n",
       "2         1K Kirana        Gurugram          Retail      600.000000   \n",
       "3             Boost   New York City         Finance       15.000000   \n",
       "4              Cin7        Auckland          Retail      254.399408   \n",
       "...             ...             ...             ...             ...   \n",
       "2463   HopSkipDrive     Los Angeles  Transportation        8.000000   \n",
       "2464    Panda Squad     SF Bay Area        Consumer        6.000000   \n",
       "2465  Tamara Mellon     Los Angeles          Retail       20.000000   \n",
       "2466       EasyPost  Salt Lake City       Logistics       75.000000   \n",
       "2467      Blackbaud      Charleston           Other      500.000000   \n",
       "\n",
       "      Percentage       Date  Funds_Raised           Stage        Country  \\\n",
       "0       0.300000 2023-04-05    382.000000         Unknown          India   \n",
       "1       0.130000 2023-04-05    311.000000        Post-IPO  United States   \n",
       "2       0.400000 2023-04-04    823.746888        Series B          India   \n",
       "3       0.200000 2023-04-04     37.000000        Series B  United States   \n",
       "4       0.257984 2023-04-04    823.746888  Private Equity    New Zealand   \n",
       "...          ...        ...           ...             ...            ...   \n",
       "2463    0.100000 2020-03-13     45.000000         Unknown  United States   \n",
       "2464    0.750000 2020-03-13      1.000000            Seed  United States   \n",
       "2465    0.400000 2020-03-12     90.000000        Series C  United States   \n",
       "2466    0.257984 2020-03-11     12.000000        Series A  United States   \n",
       "2467    0.140000 2020-03-11    823.746888        Post-IPO  United States   \n",
       "\n",
       "      employee_count  \n",
       "0      100000.000000  \n",
       "1       76153.846154  \n",
       "2      150000.000000  \n",
       "3        7500.000000  \n",
       "4       98610.605337  \n",
       "...              ...  \n",
       "2463     8000.000000  \n",
       "2464      800.000000  \n",
       "2465     5000.000000  \n",
       "2466    29071.590418  \n",
       "2467   357142.857143  \n",
       "\n",
       "[2468 rows x 10 columns]"
      ]
     },
     "execution_count": 16,
     "metadata": {},
     "output_type": "execute_result"
    }
   ],
   "source": [
    "# finding total number of people in each organization :\n",
    "employee_count = (dataset['Laid_Off_Count'] * 100)/dataset['Percentage']\n",
    "employee_count\n",
    "dataset_copy = dataset\n",
    "dataset_copy['employee_count']= employee_count\n",
    "dataset_copy"
   ]
  },
  {
   "cell_type": "markdown",
   "id": "785f6021",
   "metadata": {},
   "source": [
    "# Grouping data on the basis of industry to find the total employee count and laid off count for every industry in order to find the total percentage of people laid off in every industry for the five top countries which have been worstly affected by layoffs:"
   ]
  },
  {
   "cell_type": "code",
   "execution_count": 17,
   "id": "7094c3f4",
   "metadata": {},
   "outputs": [],
   "source": [
    "# extracting information regarding the top five worstly affected countries and storing them in separate dataframes:\n",
    "\n",
    "USA_dataset = dataset_copy[dataset_copy['Country']=='United States']\n",
    "India_dataset = dataset_copy[dataset_copy['Country']=='India']\n",
    "Netherlands_dataset = dataset_copy[dataset_copy['Country']=='Netherlands']\n",
    "United_Kingdom_dataset = dataset_copy[dataset_copy['Country']=='United Kingdom']\n",
    "Brazil_dataset = dataset_copy[dataset_copy['Country']=='Brazil']"
   ]
  },
  {
   "cell_type": "markdown",
   "id": "a8e63c80",
   "metadata": {},
   "source": [
    "# For USA:"
   ]
  },
  {
   "cell_type": "code",
   "execution_count": 18,
   "id": "8bbde39f",
   "metadata": {},
   "outputs": [],
   "source": [
    "# finding employee and layoff count (industry wise) in USA:\n",
    "\n",
    "employee_count_by_industry_USA = USA_dataset.groupby('Industry')['employee_count'].sum()\n",
    "laid_off_count_by_industry_USA = USA_dataset.groupby('Industry')['Laid_Off_Count'].sum()"
   ]
  },
  {
   "cell_type": "code",
   "execution_count": 19,
   "id": "50fcb51a",
   "metadata": {},
   "outputs": [
    {
     "data": {
      "text/plain": [
       "Industry\n",
       "Retail            9.410087e+07\n",
       "Hardware          5.042890e+07\n",
       "Consumer          4.299713e+07\n",
       "Other             3.578691e+07\n",
       "Sales             2.654171e+07\n",
       "Transportation    2.111560e+07\n",
       "Finance           2.031280e+07\n",
       "Healthcare        1.598476e+07\n",
       "Real Estate       1.270257e+07\n",
       "Infrastructure    1.193335e+07\n",
       "Marketing         1.192213e+07\n",
       "Food              1.124126e+07\n",
       "Data              9.589730e+06\n",
       "Media             8.191273e+06\n",
       "HR                7.632963e+06\n",
       "Security          7.164272e+06\n",
       "Logistics         5.735030e+06\n",
       "Crypto            5.712868e+06\n",
       "Fitness           4.918478e+06\n",
       "Travel            3.864673e+06\n",
       "Education         2.755307e+06\n",
       "Recruiting        2.683033e+06\n",
       "Product           2.460729e+06\n",
       "Construction      2.041233e+06\n",
       "Legal             9.445456e+05\n",
       "Energy            5.494390e+05\n",
       "Aerospace         3.107437e+05\n",
       "Manufacturing     1.804737e+05\n",
       "Unknown           1.695996e+05\n",
       "Support                    NaN\n",
       "Name: employee_count, dtype: float64"
      ]
     },
     "execution_count": 19,
     "metadata": {},
     "output_type": "execute_result"
    }
   ],
   "source": [
    "# Sorting employee count (industry wise) for USA in descending order:\n",
    "employee_count_by_industry_USA = employee_count_by_industry_USA.sort_values(ascending=False)\n",
    "employee_count_by_industry_USA"
   ]
  },
  {
   "cell_type": "code",
   "execution_count": 20,
   "id": "162c0e34",
   "metadata": {},
   "outputs": [
    {
     "data": {
      "text/plain": [
       "Industry\n",
       "Consumer          54711.186391\n",
       "Retail            54174.573964\n",
       "Other             30439.778107\n",
       "Healthcare        29125.565089\n",
       "Finance           28326.573964\n",
       "Transportation    27827.786982\n",
       "Hardware          25354.396450\n",
       "Real Estate       24758.576923\n",
       "Food              17779.387574\n",
       "Marketing         14129.781065\n",
       "Sales             13619.198225\n",
       "Crypto            11478.985207\n",
       "Data              11080.186391\n",
       "HR                10278.786982\n",
       "Infrastructure    10184.189349\n",
       "Media              9449.186391\n",
       "Travel             9439.393491\n",
       "Fitness            9395.594675\n",
       "Security           8801.591716\n",
       "Education          6142.390533\n",
       "Support            5945.792899\n",
       "Logistics          4649.594675\n",
       "Construction       3838.798817\n",
       "Recruiting         3836.997041\n",
       "Product            3766.393491\n",
       "Legal              1569.198225\n",
       "Energy             1430.198225\n",
       "Aerospace           718.798817\n",
       "Manufacturing       382.399408\n",
       "Unknown             254.399408\n",
       "Name: Laid_Off_Count, dtype: float64"
      ]
     },
     "execution_count": 20,
     "metadata": {},
     "output_type": "execute_result"
    }
   ],
   "source": [
    "# Sorting layoff count (industry wise) for USA in descending order:\n",
    "laid_off_count_by_industry_USA = laid_off_count_by_industry_USA.sort_values(ascending=False)\n",
    "laid_off_count_by_industry_USA"
   ]
  },
  {
   "cell_type": "code",
   "execution_count": 21,
   "id": "ace0e8e2",
   "metadata": {
    "scrolled": false
   },
   "outputs": [
    {
     "data": {
      "text/plain": [
       "Industry\n",
       "Energy            0.260302\n",
       "Travel            0.244248\n",
       "Aerospace         0.231316\n",
       "Education         0.222929\n",
       "Manufacturing     0.211887\n",
       "Crypto            0.200932\n",
       "Real Estate       0.194910\n",
       "Fitness           0.191026\n",
       "Construction      0.188063\n",
       "Healthcare        0.182208\n",
       "Legal             0.166133\n",
       "Food              0.158162\n",
       "Product           0.153060\n",
       "Unknown           0.150000\n",
       "Recruiting        0.143010\n",
       "Finance           0.139452\n",
       "HR                0.134663\n",
       "Transportation    0.131788\n",
       "Consumer          0.127244\n",
       "Security          0.122854\n",
       "Marketing         0.118517\n",
       "Data              0.115542\n",
       "Media             0.115357\n",
       "Infrastructure    0.085342\n",
       "Other             0.085058\n",
       "Logistics         0.081074\n",
       "Retail            0.057571\n",
       "Sales             0.051312\n",
       "Hardware          0.050278\n",
       "Support                NaN\n",
       "dtype: float64"
      ]
     },
     "execution_count": 21,
     "metadata": {},
     "output_type": "execute_result"
    }
   ],
   "source": [
    "# finding the layoff percentage for every industry in USA and sorting it in descending order:\n",
    "industry_wise_layoff_percentage_USA = ((laid_off_count_by_industry_USA)/(employee_count_by_industry_USA))*100\n",
    "industry_wise_layoff_percentage_USA = industry_wise_layoff_percentage_USA.sort_values(ascending=False)\n",
    "industry_wise_layoff_percentage_USA"
   ]
  },
  {
   "cell_type": "markdown",
   "id": "12ba550f",
   "metadata": {},
   "source": [
    "# Creating a bar graph depicting the industry wise layoff percentage in USA:"
   ]
  },
  {
   "cell_type": "code",
   "execution_count": 22,
   "id": "fc64ee0c",
   "metadata": {},
   "outputs": [
    {
     "data": {
      "image/png": "[encoded data removed]",
      "text/plain": [
       "<Figure size 864x432 with 1 Axes>"
      ]
     },
     "metadata": {
      "needs_background": "light"
     },
     "output_type": "display_data"
    }
   ],
   "source": [
    "import matplotlib.pyplot as plt\n",
    "import pandas as pd\n",
    "\n",
    "data = {\n",
    "    'Industry': ['Energy', 'Travel', 'Aerospace', 'Education', 'Manufacturing',\n",
    "                 'Crypto', 'Real Estate', 'Fitness', 'Construction', 'Healthcare',\n",
    "                 'Legal', 'Food', 'Product', 'Unknown', 'Recruiting', 'Finance',\n",
    "                 'HR', 'Transportation', 'Consumer', 'Security', 'Marketing', 'Data',\n",
    "                 'Media', 'Infrastructure', 'Other', 'Logistics', 'Retail', 'Sales',\n",
    "                 'Hardware', 'Support'],\n",
    "    'Layoff Percentage': [0.260302, 0.244248, 0.231316, 0.222929, 0.211887,\n",
    "                          0.200932, 0.194910, 0.191026, 0.188063, 0.182208,\n",
    "                          0.166133, 0.158162, 0.153060, 0.150000, 0.143010, 0.139452,\n",
    "                          0.134663, 0.131788, 0.127244, 0.122854, 0.118517, 0.115542,\n",
    "                          0.115357, 0.085342, 0.085058, 0.081074, 0.057571, 0.051312,\n",
    "                          0.050278, 0]\n",
    "}\n",
    "\n",
    "industry_wise_layoff_percentage = pd.DataFrame(data)\n",
    "\n",
    "plt.figure(figsize=(12, 6))\n",
    "plt.bar(industry_wise_layoff_percentage['Industry'], industry_wise_layoff_percentage['Layoff Percentage'], color='b')\n",
    "plt.xticks(rotation=90)\n",
    "plt.xlabel('Industry')\n",
    "plt.ylabel('Layoff Percentage')\n",
    "plt.title('Industry-wise Layoff Percentage in USA')\n",
    "plt.show()\n"
   ]
  },
  {
   "cell_type": "markdown",
   "id": "888b343b",
   "metadata": {},
   "source": [
    "# For India:"
   ]
  },
  {
   "cell_type": "code",
   "execution_count": 23,
   "id": "81407c19",
   "metadata": {},
   "outputs": [],
   "source": [
    "# finding employee and layoff count (industry wise) in India:\n",
    "\n",
    "employee_count_by_industry_India = India_dataset.groupby('Industry')['employee_count'].sum()\n",
    "laid_off_count_by_industry_India = India_dataset.groupby('Industry')['Laid_Off_Count'].sum()"
   ]
  },
  {
   "cell_type": "code",
   "execution_count": 24,
   "id": "2d33cb94",
   "metadata": {},
   "outputs": [
    {
     "data": {
      "text/plain": [
       "Industry\n",
       "Education         1.042452e+07\n",
       "Food              6.987105e+06\n",
       "Retail            2.692818e+06\n",
       "Transportation    2.687127e+06\n",
       "Travel            1.451280e+06\n",
       "Consumer          1.280823e+06\n",
       "Finance           1.135888e+06\n",
       "Healthcare        8.264095e+05\n",
       "Fitness           6.319305e+05\n",
       "Media             3.454399e+05\n",
       "Logistics         2.500105e+05\n",
       "Marketing         1.866864e+05\n",
       "Other             1.829530e+05\n",
       "Real Estate       1.469053e+05\n",
       "Support           1.392431e+05\n",
       "Crypto            1.214496e+05\n",
       "HR                5.100970e+04\n",
       "Recruiting        5.000000e+04\n",
       "Construction      2.800000e+04\n",
       "Data              1.550485e+04\n",
       "Name: employee_count, dtype: float64"
      ]
     },
     "execution_count": 24,
     "metadata": {},
     "output_type": "execute_result"
    }
   ],
   "source": [
    "# Sorting employee count (industry wise) for India in descending order:\n",
    "employee_count_by_industry_India = employee_count_by_industry_India.sort_values(ascending=False)\n",
    "employee_count_by_industry_India"
   ]
  },
  {
   "cell_type": "code",
   "execution_count": 25,
   "id": "a27271a9",
   "metadata": {},
   "outputs": [
    {
     "data": {
      "text/plain": [
       "Industry\n",
       "Education         11939.795858\n",
       "Food               5482.597633\n",
       "Transportation     5278.798817\n",
       "Retail             4772.597633\n",
       "Finance            3575.399408\n",
       "Consumer           2950.000000\n",
       "Travel             2754.399408\n",
       "Healthcare         2019.198225\n",
       "Fitness            1100.000000\n",
       "Logistics           680.000000\n",
       "Other               500.000000\n",
       "Crypto              494.399408\n",
       "Marketing           461.000000\n",
       "Media               454.399408\n",
       "Real Estate         350.000000\n",
       "Support             257.000000\n",
       "Recruiting          200.000000\n",
       "Construction        140.000000\n",
       "HR                  120.000000\n",
       "Data                 40.000000\n",
       "Name: Laid_Off_Count, dtype: float64"
      ]
     },
     "execution_count": 25,
     "metadata": {},
     "output_type": "execute_result"
    }
   ],
   "source": [
    "# Sorting layoff count (industry wise) for India in descending order:\n",
    "laid_off_count_by_industry_India = laid_off_count_by_industry_India.sort_values(ascending=False)\n",
    "laid_off_count_by_industry_India"
   ]
  },
  {
   "cell_type": "code",
   "execution_count": 26,
   "id": "ff0d6e6c",
   "metadata": {},
   "outputs": [
    {
     "data": {
      "text/plain": [
       "Industry\n",
       "Construction      0.500000\n",
       "Crypto            0.407082\n",
       "Recruiting        0.400000\n",
       "Finance           0.314767\n",
       "Other             0.273294\n",
       "Logistics         0.271989\n",
       "Data              0.257984\n",
       "Marketing         0.246938\n",
       "Healthcare        0.244334\n",
       "Real Estate       0.238249\n",
       "HR                0.235249\n",
       "Consumer          0.230321\n",
       "Transportation    0.196448\n",
       "Travel            0.189791\n",
       "Support           0.184569\n",
       "Retail            0.177234\n",
       "Fitness           0.174070\n",
       "Media             0.131542\n",
       "Education         0.114536\n",
       "Food              0.078467\n",
       "dtype: float64"
      ]
     },
     "execution_count": 26,
     "metadata": {},
     "output_type": "execute_result"
    }
   ],
   "source": [
    "# finding the layoff percentage for every industry in India and sorting it in descending order:\n",
    "industry_wise_layoff_percentage_India = ((laid_off_count_by_industry_India)/(employee_count_by_industry_India))*100\n",
    "industry_wise_layoff_percentage_India = industry_wise_layoff_percentage_India.sort_values(ascending=False)\n",
    "industry_wise_layoff_percentage_India"
   ]
  },
  {
   "cell_type": "markdown",
   "id": "0d0b9b6a",
   "metadata": {},
   "source": [
    "# Creating a bar graph depicting the industry wise layoff percentage in India:"
   ]
  },
  {
   "cell_type": "code",
   "execution_count": 27,
   "id": "3d3b58cd",
   "metadata": {
    "scrolled": true
   },
   "outputs": [
    {
     "data": {
      "image/png": "[encoded data removed]",
      "text/plain": [
       "<Figure size 864x432 with 1 Axes>"
      ]
     },
     "metadata": {
      "needs_background": "light"
     },
     "output_type": "display_data"
    }
   ],
   "source": [
    "import matplotlib.pyplot as plt\n",
    "import pandas as pd\n",
    "import numpy as np\n",
    "\n",
    "data = {\n",
    "    'Industry': ['Construction', 'Crypto', 'Recruiting', 'Finance', 'Other',\n",
    "                 'Logistics', 'Data', 'Marketing', 'Healthcare', 'Real Estate',\n",
    "                 'HR', 'Consumer', 'Transportation', 'Travel', 'Support',\n",
    "                 'Retail', 'Fitness', 'Media', 'Education', 'Food'],\n",
    "    'Layoff Percentage': [0.500000, 0.407082, 0.400000, 0.314767, 0.273294,\n",
    "                          0.271989, 0.257984, 0.246938, 0.244334, 0.238249,\n",
    "                          0.235249, 0.230321, 0.196448, 0.189791, 0.184569,\n",
    "                          0.177234, 0.174070, 0.131542, 0.114536, 0.078467]\n",
    "}\n",
    "\n",
    "industry_wise_layoff_percentage = pd.DataFrame(data)\n",
    "industry_wise_layoff_percentage['Layoff Percentage'] = industry_wise_layoff_percentage['Layoff Percentage'].fillna(0) # Fill NaN values with 0\n",
    "\n",
    "plt.figure(figsize=(12, 6))\n",
    "plt.bar(industry_wise_layoff_percentage['Industry'], industry_wise_layoff_percentage['Layoff Percentage'], color='b')\n",
    "plt.xticks(rotation=90)\n",
    "plt.xlabel('Industry')\n",
    "plt.ylabel('Layoff Percentage')\n",
    "plt.title('Industry-wise Layoff Percentage in India')\n",
    "plt.show()\n"
   ]
  },
  {
   "cell_type": "markdown",
   "id": "64de8fc4",
   "metadata": {},
   "source": [
    "# For Netherlands:"
   ]
  },
  {
   "cell_type": "code",
   "execution_count": 28,
   "id": "2958d0fa",
   "metadata": {},
   "outputs": [],
   "source": [
    "# finding employee and layoff count (industry wise) in Netherlands:\n",
    "\n",
    "employee_count_by_industry_Netherlands = Netherlands_dataset.groupby('Industry')['employee_count'].sum()\n",
    "laid_off_count_by_industry_Netherlands = Netherlands_dataset.groupby('Industry')['Laid_Off_Count'].sum()"
   ]
  },
  {
   "cell_type": "code",
   "execution_count": 29,
   "id": "cf477c9d",
   "metadata": {},
   "outputs": [
    {
     "data": {
      "text/plain": [
       "Industry\n",
       "Healthcare        1.261538e+07\n",
       "Travel            1.750000e+06\n",
       "Marketing         1.000000e+06\n",
       "Transportation    5.900000e+05\n",
       "Finance           4.546104e+05\n",
       "Other             1.978738e+05\n",
       "Food              1.511723e+05\n",
       "Name: employee_count, dtype: float64"
      ]
     },
     "execution_count": 29,
     "metadata": {},
     "output_type": "execute_result"
    }
   ],
   "source": [
    "# Sorting employee count (industry wise) for Netherlands in descending order:\n",
    "employee_count_by_industry_Netherlands = employee_count_by_industry_Netherlands.sort_values(ascending=False)\n",
    "employee_count_by_industry_Netherlands"
   ]
  },
  {
   "cell_type": "code",
   "execution_count": 30,
   "id": "1c163c3e",
   "metadata": {},
   "outputs": [
    {
     "data": {
      "text/plain": [
       "Industry\n",
       "Healthcare        10000.000000\n",
       "Travel             4375.000000\n",
       "Marketing          1500.000000\n",
       "Transportation      725.000000\n",
       "Finance             658.798817\n",
       "Other               588.798817\n",
       "Food                390.000000\n",
       "Name: Laid_Off_Count, dtype: float64"
      ]
     },
     "execution_count": 30,
     "metadata": {},
     "output_type": "execute_result"
    }
   ],
   "source": [
    "# Sorting layoff count (industry wise) for Netherlands in descending order:\n",
    "laid_off_count_by_industry_Netherlands = laid_off_count_by_industry_Netherlands.sort_values(ascending=False)\n",
    "laid_off_count_by_industry_Netherlands"
   ]
  },
  {
   "cell_type": "code",
   "execution_count": 31,
   "id": "b5e5a126",
   "metadata": {},
   "outputs": [
    {
     "data": {
      "text/plain": [
       "Industry\n",
       "Other             0.297563\n",
       "Food              0.257984\n",
       "Travel            0.250000\n",
       "Marketing         0.150000\n",
       "Finance           0.144915\n",
       "Transportation    0.122881\n",
       "Healthcare        0.079268\n",
       "dtype: float64"
      ]
     },
     "execution_count": 31,
     "metadata": {},
     "output_type": "execute_result"
    }
   ],
   "source": [
    "# finding the layoff percentage for every industry in Netherlands and sorting it in descending order:\n",
    "industry_wise_layoff_percentage_Netherlands = ((laid_off_count_by_industry_Netherlands)/(employee_count_by_industry_Netherlands))*100\n",
    "industry_wise_layoff_percentage_Netherlands = industry_wise_layoff_percentage_Netherlands.sort_values(ascending=False)\n",
    "industry_wise_layoff_percentage_Netherlands"
   ]
  },
  {
   "cell_type": "markdown",
   "id": "143e6c3e",
   "metadata": {},
   "source": [
    "# Creating a bar graph depicting the industry wise layoff percentage in Netherlands:"
   ]
  },
  {
   "cell_type": "code",
   "execution_count": 32,
   "id": "731abaf2",
   "metadata": {},
   "outputs": [
    {
     "data": {
      "image/png": "[encoded data removed]",
      "text/plain": [
       "<Figure size 576x288 with 1 Axes>"
      ]
     },
     "metadata": {
      "needs_background": "light"
     },
     "output_type": "display_data"
    }
   ],
   "source": [
    "import matplotlib.pyplot as plt\n",
    "import pandas as pd\n",
    "\n",
    "data = {\n",
    "    'Industry': ['Other', 'Food', 'Travel', 'Marketing', 'Finance', 'Transportation', 'Healthcare'],\n",
    "    'Layoff Percentage': [0.297563, 0.257984, 0.250000, 0.150000, 0.144915, 0.122881, 0.079268]\n",
    "}\n",
    "\n",
    "industry_wise_layoff_percentage = pd.DataFrame(data)\n",
    "industry_wise_layoff_percentage['Layoff Percentage'] = industry_wise_layoff_percentage['Layoff Percentage'].fillna(0) # Fill NaN values with 0\n",
    "\n",
    "plt.figure(figsize=(8, 4))\n",
    "plt.bar(industry_wise_layoff_percentage['Industry'], industry_wise_layoff_percentage['Layoff Percentage'], color='b')\n",
    "plt.xticks(rotation=90)\n",
    "plt.xlabel('Industry')\n",
    "plt.ylabel('Layoff Percentage')\n",
    "plt.title('Industry-wise Layoff Percentage in Netherlands')\n",
    "plt.show()\n"
   ]
  },
  {
   "cell_type": "markdown",
   "id": "ae4fe1ef",
   "metadata": {},
   "source": [
    "# For United Kingdom:"
   ]
  },
  {
   "cell_type": "code",
   "execution_count": 33,
   "id": "0aaa1f71",
   "metadata": {},
   "outputs": [],
   "source": [
    "# finding employee and layoff count (industry wise) in United Kingdom:\n",
    "\n",
    "employee_count_by_industry_United_Kingdom = United_Kingdom_dataset.groupby('Industry')['employee_count'].sum()\n",
    "laid_off_count_by_industry_United_Kingdom = United_Kingdom_dataset.groupby('Industry')['Laid_Off_Count'].sum()"
   ]
  },
  {
   "cell_type": "code",
   "execution_count": 34,
   "id": "b9de04ae",
   "metadata": {
    "scrolled": true
   },
   "outputs": [
    {
     "data": {
      "text/plain": [
       "Industry\n",
       "Food              1.827235e+06\n",
       "Transportation    1.643326e+06\n",
       "Finance           1.495233e+06\n",
       "Other             7.557046e+05\n",
       "HR                3.952766e+05\n",
       "Crypto            3.915596e+05\n",
       "Media             3.527172e+05\n",
       "Travel            2.995787e+05\n",
       "Consumer          2.612410e+05\n",
       "Security          2.332381e+05\n",
       "Data              2.049736e+05\n",
       "Retail            9.868555e+04\n",
       "Education         9.861061e+04\n",
       "Energy            9.861061e+04\n",
       "Real Estate       9.690530e+04\n",
       "Marketing         7.043994e+04\n",
       "Aerospace         5.305882e+04\n",
       "Healthcare        3.976212e+04\n",
       "Product           1.000000e+03\n",
       "Name: employee_count, dtype: float64"
      ]
     },
     "execution_count": 34,
     "metadata": {},
     "output_type": "execute_result"
    }
   ],
   "source": [
    "# Sorting employee count (industry wise) for United Kingdom in descending order:\n",
    "employee_count_by_industry_United_Kingdom = employee_count_by_industry_United_Kingdom.sort_values(ascending=False)\n",
    "employee_count_by_industry_United_Kingdom"
   ]
  },
  {
   "cell_type": "code",
   "execution_count": 35,
   "id": "2a73b035",
   "metadata": {
    "scrolled": true
   },
   "outputs": [
    {
     "data": {
      "text/plain": [
       "Industry\n",
       "Transportation    3690.597633\n",
       "Food              3180.198225\n",
       "Finance           2369.795858\n",
       "Other             1259.597633\n",
       "Crypto            1114.798817\n",
       "Travel             749.000000\n",
       "Media              619.399408\n",
       "HR                 536.798817\n",
       "Data               528.798817\n",
       "Aerospace          451.000000\n",
       "Retail             334.399408\n",
       "Marketing          292.399408\n",
       "Energy             254.399408\n",
       "Education          254.399408\n",
       "Real Estate        250.000000\n",
       "Security           183.000000\n",
       "Healthcare         108.000000\n",
       "Consumer            79.000000\n",
       "Product             10.000000\n",
       "Name: Laid_Off_Count, dtype: float64"
      ]
     },
     "execution_count": 35,
     "metadata": {},
     "output_type": "execute_result"
    }
   ],
   "source": [
    "# Sorting layoff count (industry wise) for United Kingdom in descending order:\n",
    "laid_off_count_by_industry_United_Kingdom = laid_off_count_by_industry_United_Kingdom.sort_values(ascending=False)\n",
    "laid_off_count_by_industry_United_Kingdom"
   ]
  },
  {
   "cell_type": "code",
   "execution_count": 36,
   "id": "167d1901",
   "metadata": {
    "scrolled": true
   },
   "outputs": [
    {
     "data": {
      "text/plain": [
       "Industry\n",
       "Product           1.000000\n",
       "Aerospace         0.850000\n",
       "Marketing         0.415105\n",
       "Retail            0.338853\n",
       "Crypto            0.284707\n",
       "Healthcare        0.271615\n",
       "Energy            0.257984\n",
       "Education         0.257984\n",
       "Real Estate       0.257984\n",
       "Data              0.257984\n",
       "Travel            0.250018\n",
       "Transportation    0.224581\n",
       "Media             0.175608\n",
       "Food              0.174044\n",
       "Other             0.166679\n",
       "Finance           0.158490\n",
       "HR                0.135803\n",
       "Security          0.078461\n",
       "Consumer          0.030240\n",
       "dtype: float64"
      ]
     },
     "execution_count": 36,
     "metadata": {},
     "output_type": "execute_result"
    }
   ],
   "source": [
    "# finding the layoff percentage for every industry in United Kingdom and sorting it in descending order:\n",
    "industry_wise_layoff_percentage_United_Kingdom = ((laid_off_count_by_industry_United_Kingdom)/(employee_count_by_industry_United_Kingdom))*100\n",
    "industry_wise_layoff_percentage_United_Kingdom = industry_wise_layoff_percentage_United_Kingdom.sort_values(ascending=False)\n",
    "industry_wise_layoff_percentage_United_Kingdom"
   ]
  },
  {
   "cell_type": "markdown",
   "id": "e3c823f5",
   "metadata": {},
   "source": [
    "# Creating a bar graph depicting the industry wise layoff percentage in United Kingdom:"
   ]
  },
  {
   "cell_type": "code",
   "execution_count": 37,
   "id": "7e56edb0",
   "metadata": {},
   "outputs": [
    {
     "data": {
      "image/png": "[encoded data removed]",
      "text/plain": [
       "<Figure size 720x432 with 1 Axes>"
      ]
     },
     "metadata": {
      "needs_background": "light"
     },
     "output_type": "display_data"
    }
   ],
   "source": [
    "import matplotlib.pyplot as plt\n",
    "import pandas as pd\n",
    "\n",
    "data = {\n",
    "    'Industry': ['Product', 'Aerospace', 'Marketing', 'Retail', 'Crypto', 'Healthcare', 'Energy', 'Education', \n",
    "                 'Real Estate', 'Data', 'Travel', 'Transportation', 'Media', 'Food', 'Other', 'Finance', 'HR', \n",
    "                 'Security', 'Consumer'],\n",
    "    'Layoff Percentage': [1.000000, 0.850000, 0.415105, 0.338853, 0.284707, 0.271615, 0.257984, 0.257984, \n",
    "                          0.257984, 0.257984, 0.250018, 0.224581, 0.175608, 0.174044, 0.166679, 0.158490, \n",
    "                          0.135803, 0.078461, 0.030240]\n",
    "}\n",
    "industry_wise_layoff_percentage = pd.DataFrame(data)\n",
    "industry_wise_layoff_percentage['Layoff Percentage'] = industry_wise_layoff_percentage['Layoff Percentage'].fillna(0) # Fill NaN values with 0\n",
    "\n",
    "plt.figure(figsize=(10, 6))\n",
    "plt.bar(industry_wise_layoff_percentage['Industry'], industry_wise_layoff_percentage['Layoff Percentage'], color='b')\n",
    "plt.xticks(rotation=90)\n",
    "plt.xlabel('Industry')\n",
    "plt.ylabel('Layoff Percentage')\n",
    "plt.title('Industry-wise Layoff Percentage in United Kingdom')\n",
    "plt.show()\n"
   ]
  },
  {
   "cell_type": "markdown",
   "id": "1e107920",
   "metadata": {},
   "source": [
    "# For Brazil:"
   ]
  },
  {
   "cell_type": "code",
   "execution_count": 38,
   "id": "4f556cc7",
   "metadata": {},
   "outputs": [],
   "source": [
    "# finding employee and layoff count (industry wise) in Brazil:\n",
    "\n",
    "employee_count_by_industry_Brazil = Brazil_dataset.groupby('Industry')['employee_count'].sum()\n",
    "laid_off_count_by_industry_Brazil = Brazil_dataset.groupby('Industry')['Laid_Off_Count'].sum()"
   ]
  },
  {
   "cell_type": "code",
   "execution_count": 39,
   "id": "911e096e",
   "metadata": {},
   "outputs": [
    {
     "data": {
      "text/plain": [
       "Industry\n",
       "Finance           3.955524e+06\n",
       "Real Estate       1.443517e+06\n",
       "Retail            7.690593e+05\n",
       "Logistics         7.619048e+05\n",
       "Food              7.436100e+05\n",
       "Transportation    6.083444e+05\n",
       "Other             2.451220e+05\n",
       "Marketing         2.391667e+05\n",
       "Travel            2.335725e+05\n",
       "Consumer          1.948762e+05\n",
       "Healthcare        1.750451e+05\n",
       "Crypto            1.416667e+05\n",
       "Fitness           1.415152e+05\n",
       "Education         8.740000e+04\n",
       "Support           1.320000e+04\n",
       "Sales             1.275000e+04\n",
       "Recruiting        1.125000e+04\n",
       "HR                3.876212e+03\n",
       "Name: employee_count, dtype: float64"
      ]
     },
     "execution_count": 39,
     "metadata": {},
     "output_type": "execute_result"
    }
   ],
   "source": [
    "# Sorting employee count (industry wise) for Brazil in descending order:\n",
    "employee_count_by_industry_Brazil = employee_count_by_industry_Brazil.sort_values(ascending=False)\n",
    "employee_count_by_industry_Brazil"
   ]
  },
  {
   "cell_type": "code",
   "execution_count": 40,
   "id": "e4966ece",
   "metadata": {},
   "outputs": [
    {
     "data": {
      "text/plain": [
       "Industry\n",
       "Finance           5085.795858\n",
       "Real Estate       1537.000000\n",
       "Retail            1248.798817\n",
       "Logistics          800.000000\n",
       "Transportation     699.399408\n",
       "Food               675.000000\n",
       "Travel             667.000000\n",
       "Fitness            467.000000\n",
       "Consumer           381.000000\n",
       "Marketing          327.000000\n",
       "Healthcare         311.000000\n",
       "Other              243.000000\n",
       "Education          191.000000\n",
       "Crypto             190.000000\n",
       "Sales               51.000000\n",
       "Support             33.000000\n",
       "Recruiting          18.000000\n",
       "HR                  10.000000\n",
       "Name: Laid_Off_Count, dtype: float64"
      ]
     },
     "execution_count": 40,
     "metadata": {},
     "output_type": "execute_result"
    }
   ],
   "source": [
    "# Sorting layoff count (industry wise) for Brazil in descending order:\n",
    "laid_off_count_by_industry_Brazil = laid_off_count_by_industry_Brazil.sort_values(ascending=False)\n",
    "laid_off_count_by_industry_Brazil"
   ]
  },
  {
   "cell_type": "code",
   "execution_count": 41,
   "id": "2eed6f9e",
   "metadata": {},
   "outputs": [
    {
     "data": {
      "text/plain": [
       "Industry\n",
       "Sales             0.400000\n",
       "Fitness           0.330000\n",
       "Travel            0.285564\n",
       "HR                0.257984\n",
       "Support           0.250000\n",
       "Education         0.218535\n",
       "Consumer          0.195509\n",
       "Healthcare        0.177668\n",
       "Retail            0.162380\n",
       "Recruiting        0.160000\n",
       "Marketing         0.136725\n",
       "Crypto            0.134118\n",
       "Finance           0.128575\n",
       "Transportation    0.114968\n",
       "Real Estate       0.106476\n",
       "Logistics         0.105000\n",
       "Other             0.099134\n",
       "Food              0.090773\n",
       "dtype: float64"
      ]
     },
     "execution_count": 41,
     "metadata": {},
     "output_type": "execute_result"
    }
   ],
   "source": [
    "# finding the layoff percentage for every industry in Brazil and sorting it in descending order:\n",
    "industry_wise_layoff_percentage_Brazil = ((laid_off_count_by_industry_Brazil)/(employee_count_by_industry_Brazil))*100\n",
    "industry_wise_layoff_percentage_Brazil = industry_wise_layoff_percentage_Brazil.sort_values(ascending=False)\n",
    "industry_wise_layoff_percentage_Brazil"
   ]
  },
  {
   "cell_type": "markdown",
   "id": "8de31fd9",
   "metadata": {},
   "source": [
    "# Creating a bar graph depicting the industry wise layoff percentage in Brazil:"
   ]
  },
  {
   "cell_type": "code",
   "execution_count": 42,
   "id": "1b1b1f97",
   "metadata": {
    "scrolled": true
   },
   "outputs": [
    {
     "data": {
      "image/png": "[encoded data removed]",
      "text/plain": [
       "<Figure size 720x432 with 1 Axes>"
      ]
     },
     "metadata": {
      "needs_background": "light"
     },
     "output_type": "display_data"
    }
   ],
   "source": [
    "import matplotlib.pyplot as plt\n",
    "import pandas as pd\n",
    "\n",
    "data = {\n",
    "    'Industry': ['Product', 'Aerospace', 'Marketing', 'Retail', 'Crypto', 'Healthcare', 'Energy', 'Education', \n",
    "                 'Real Estate', 'Data', 'Travel', 'Transportation', 'Media', 'Food', 'Other', 'Finance', 'HR', \n",
    "                 'Security', 'Consumer'],\n",
    "    'Layoff Percentage': [1.000000, 0.850000, 0.415105, 0.338853, 0.284707, 0.271615, 0.257984, 0.257984, \n",
    "                          0.257984, 0.257984, 0.250018, 0.224581, 0.175608, 0.174044, 0.166679, 0.158490, \n",
    "                          0.135803, 0.078461, 0.030240]\n",
    "}\n",
    "\n",
    "industry_wise_layoff_percentage = pd.DataFrame(data)\n",
    "industry_wise_layoff_percentage['Layoff Percentage'] = industry_wise_layoff_percentage['Layoff Percentage'].fillna(0) # Fill NaN values with 0\n",
    "\n",
    "plt.figure(figsize=(10, 6))\n",
    "plt.bar(industry_wise_layoff_percentage['Industry'], industry_wise_layoff_percentage['Layoff Percentage'], color='b')\n",
    "plt.xticks(rotation=90)\n",
    "plt.xlabel('Industry')\n",
    "plt.ylabel('Layoff Percentage')\n",
    "plt.title('Industry-wise Layoff Percentage in Brazil')\n",
    "plt.show()\n"
   ]
  },
  {
   "cell_type": "markdown",
   "id": "4219e0e2",
   "metadata": {},
   "source": [
    "# Since we have performed analysis on the basis of industry in the worstly affected countries, now we'll be analyzing the data based on the location headquarters for companies belonging to the worstly affected countries.For this, we'll be grouping data on basis of location headquarters and see the employee count and layoff count there to calculate layoff percentage to find out what effect does deciding the headquarter location have on layoffs:"
   ]
  },
  {
   "cell_type": "markdown",
   "id": "3c457804",
   "metadata": {},
   "source": [
    "# For USA:"
   ]
  },
  {
   "cell_type": "code",
   "execution_count": 43,
   "id": "baba099b",
   "metadata": {},
   "outputs": [],
   "source": [
    "# finding employee and layoff count (headquarter location wise) in USA:\n",
    "\n",
    "employee_count_by_location_USA = USA_dataset.groupby('Location_HQ')['employee_count'].sum()\n",
    "laid_off_count_by_location_USA = USA_dataset.groupby('Location_HQ')['Laid_Off_Count'].sum()"
   ]
  },
  {
   "cell_type": "code",
   "execution_count": 44,
   "id": "1ad63005",
   "metadata": {},
   "outputs": [
    {
     "data": {
      "text/plain": [
       "Location_HQ\n",
       "SF Bay Area      1.709702e+08\n",
       "Seattle          1.088726e+08\n",
       "New York City    4.533373e+07\n",
       "Austin           1.908742e+07\n",
       "Boston           1.325334e+07\n",
       "                     ...     \n",
       "Orlando          9.302909e+03\n",
       "New Delhi        5.039076e+03\n",
       "Indianapolis     3.333333e+03\n",
       "Toronto          2.000000e+03\n",
       "Los Angeles               NaN\n",
       "Name: employee_count, Length: 96, dtype: float64"
      ]
     },
     "execution_count": 44,
     "metadata": {},
     "output_type": "execute_result"
    }
   ],
   "source": [
    "# Sorting employee count (headquarter location wise) for USA based companies in descending order:\n",
    "employee_count_by_location_USA = employee_count_by_location_USA.sort_values(ascending=False)\n",
    "employee_count_by_location_USA"
   ]
  },
  {
   "cell_type": "code",
   "execution_count": 45,
   "id": "51b19007",
   "metadata": {},
   "outputs": [
    {
     "data": {
      "text/plain": [
       "Location_HQ\n",
       "SF Bay Area      190562.488166\n",
       "Seattle           52312.180473\n",
       "New York City     49802.952663\n",
       "Boston            20946.576923\n",
       "Los Angeles       16332.177515\n",
       "                     ...      \n",
       "Orlando              24.000000\n",
       "Kansas City          20.000000\n",
       "New Delhi            13.000000\n",
       "Toronto               5.000000\n",
       "Indianapolis          5.000000\n",
       "Name: Laid_Off_Count, Length: 96, dtype: float64"
      ]
     },
     "execution_count": 45,
     "metadata": {},
     "output_type": "execute_result"
    }
   ],
   "source": [
    "# Sorting layoff count (headquarter location wise) for USA based companies in descending order:\n",
    "laid_off_count_by_location_USA = laid_off_count_by_location_USA.sort_values(ascending=False)\n",
    "laid_off_count_by_location_USA"
   ]
  },
  {
   "cell_type": "code",
   "execution_count": 46,
   "id": "3c6cffc6",
   "metadata": {},
   "outputs": [
    {
     "data": {
      "text/plain": [
       "Location_HQ\n",
       "Brisbane        1.000000\n",
       "Selangor        1.000000\n",
       "Fayetteville    1.000000\n",
       "Chennai         1.000000\n",
       "Spokane         0.622708\n",
       "                  ...   \n",
       "Boise           0.078117\n",
       "St. Louis       0.070178\n",
       "Seattle         0.048049\n",
       "Kansas City     0.020000\n",
       "Los Angeles          NaN\n",
       "Length: 96, dtype: float64"
      ]
     },
     "execution_count": 46,
     "metadata": {},
     "output_type": "execute_result"
    }
   ],
   "source": [
    "# finding the layoff percentage for every headquarter location for USA based companies and sorting it in descending order:\n",
    "location_wise_layoff_percentage_USA = ((laid_off_count_by_location_USA)/(employee_count_by_location_USA))*100\n",
    "location_wise_layoff_percentage_USA = location_wise_layoff_percentage_USA.sort_values(ascending=False)\n",
    "location_wise_layoff_percentage_USA"
   ]
  },
  {
   "cell_type": "markdown",
   "id": "9fc54b5b",
   "metadata": {},
   "source": [
    "# Creating line graph depicting the headquarter location wise layoff percentage for USA based companies.Since we have too many locations, in order to properly visualize the data, we'll be plotting the bar graph for top 10 and bottom 10 locations according to layoff percentage:"
   ]
  },
  {
   "cell_type": "code",
   "execution_count": 47,
   "id": "57dc67c5",
   "metadata": {},
   "outputs": [
    {
     "data": {
      "text/plain": [
       "Location_HQ\n",
       "Brisbane        1.000000\n",
       "Selangor        1.000000\n",
       "Fayetteville    1.000000\n",
       "Chennai         1.000000\n",
       "Spokane         0.622708\n",
       "Nashville       0.603039\n",
       "Grand Rapids    0.424973\n",
       "Mexico City     0.409368\n",
       "Tokyo           0.400000\n",
       "Tampa Bay       0.400000\n",
       "dtype: float64"
      ]
     },
     "execution_count": 47,
     "metadata": {},
     "output_type": "execute_result"
    }
   ],
   "source": [
    "# extracting top 10 locations in a separate dataset:\n",
    "location_wise_layoff_percentage_USA_top_10 = location_wise_layoff_percentage_USA[:10]\n",
    "location_wise_layoff_percentage_USA_top_10"
   ]
  },
  {
   "cell_type": "code",
   "execution_count": 48,
   "id": "6f421f48",
   "metadata": {},
   "outputs": [
    {
     "data": {
      "text/plain": [
       "Location_HQ\n",
       "Oxford          0.100000\n",
       "Philadelphia    0.088874\n",
       "Baltimore       0.082895\n",
       "Detroit         0.080551\n",
       "Austin          0.079997\n",
       "Boise           0.078117\n",
       "St. Louis       0.070178\n",
       "Seattle         0.048049\n",
       "Kansas City     0.020000\n",
       "Los Angeles          NaN\n",
       "dtype: float64"
      ]
     },
     "execution_count": 48,
     "metadata": {},
     "output_type": "execute_result"
    }
   ],
   "source": [
    "# extracting bottom 10 locations in a separate dataset:\n",
    "location_wise_layoff_percentage_USA_bottom_10 = location_wise_layoff_percentage_USA[86:]\n",
    "location_wise_layoff_percentage_USA_bottom_10"
   ]
  },
  {
   "cell_type": "markdown",
   "id": "5e8971b9",
   "metadata": {},
   "source": [
    "# Creating a line graph for the 10 worstly affected headquarter locations:"
   ]
  },
  {
   "cell_type": "code",
   "execution_count": 49,
   "id": "fd17b50f",
   "metadata": {},
   "outputs": [
    {
     "data": {
      "image/png": "[encoded data removed]",
      "text/plain": [
       "<Figure size 432x288 with 1 Axes>"
      ]
     },
     "metadata": {
      "needs_background": "light"
     },
     "output_type": "display_data"
    }
   ],
   "source": [
    "import pandas as pd\n",
    "import matplotlib.pyplot as plt\n",
    "\n",
    "# Define the data\n",
    "data = {'Location_HQ': ['Brisbane', 'Selangor', 'Fayetteville', 'Chennai', 'Spokane', 'Nashville', 'Grand Rapids', 'Mexico City', 'Tokyo', 'Tampa Bay'], \n",
    "        'Layoff_Percentage': [1.0, 1.0, 1.0, 1.0, 0.622708, 0.603039, 0.424973, 0.409368, 0.4, 0.4]}\n",
    "\n",
    "# Convert the data to a DataFrame\n",
    "location_wise_layoff_percentage = pd.DataFrame(data)\n",
    "\n",
    "# Fill NaN values with 0\n",
    "location_wise_layoff_percentage.fillna(0, inplace=True)\n",
    "\n",
    "# Create the line graph\n",
    "plt.plot(location_wise_layoff_percentage['Location_HQ'], location_wise_layoff_percentage['Layoff_Percentage'], marker='o')\n",
    "\n",
    "# Set the title and axis labels\n",
    "plt.title('Headquarter location wise layoff percentage for USA based companies(most affected)')\n",
    "plt.xlabel('Location_HQ')\n",
    "plt.ylabel('Layoff Percentage')\n",
    "\n",
    "# Rotate the x-axis labels to avoid overlapping\n",
    "plt.xticks(rotation=90)\n",
    "\n",
    "# Show the graph\n",
    "plt.show()\n"
   ]
  },
  {
   "cell_type": "markdown",
   "id": "5ff4f38f",
   "metadata": {},
   "source": [
    "# Creating a line graph for the 10 least affected headquarter locations:"
   ]
  },
  {
   "cell_type": "code",
   "execution_count": 50,
   "id": "ad129d7d",
   "metadata": {},
   "outputs": [
    {
     "data": {
      "image/png": "[encoded data removed]",
      "text/plain": [
       "<Figure size 432x288 with 1 Axes>"
      ]
     },
     "metadata": {
      "needs_background": "light"
     },
     "output_type": "display_data"
    }
   ],
   "source": [
    "import pandas as pd\n",
    "import matplotlib.pyplot as plt\n",
    "\n",
    "# Define the data\n",
    "data = {'Location_HQ': ['Oxford', 'Philadelphia', 'Baltimore', 'Detroit', 'Austin', 'Boise', 'St. Louis', 'Seattle', 'Kansas City', 'Los Angeles'], \n",
    "        'Layoff_Percentage': [0.1, 0.088874, 0.082895, 0.080551, 0.079997, 0.078117, 0.070178, 0.048049, 0.02, 0]}\n",
    "\n",
    "# Convert the data to a DataFrame\n",
    "location_wise_layoff_percentage = pd.DataFrame(data)\n",
    "\n",
    "# Fill NaN values with 0\n",
    "location_wise_layoff_percentage.fillna(0, inplace=True)\n",
    "\n",
    "# Create the line graph\n",
    "plt.plot(location_wise_layoff_percentage['Location_HQ'], location_wise_layoff_percentage['Layoff_Percentage'], marker='o')\n",
    "\n",
    "# Set the title and axis labels\n",
    "plt.title('Headquarter location wise layoff percentage for USA based companies(least affected)')\n",
    "plt.xlabel('Location_HQ')\n",
    "plt.ylabel('Layoff Percentage')\n",
    "\n",
    "# Rotate the x-axis labels to avoid overlapping\n",
    "plt.xticks(rotation=90)\n",
    "\n",
    "# Show the graph\n",
    "plt.show()"
   ]
  },
  {
   "cell_type": "markdown",
   "id": "8d002bd1",
   "metadata": {},
   "source": [
    "# For India:"
   ]
  },
  {
   "cell_type": "code",
   "execution_count": 51,
   "id": "63745e27",
   "metadata": {},
   "outputs": [],
   "source": [
    "# finding employee and layoff count (headquarter location wise) in India:\n",
    "\n",
    "employee_count_by_location_India = India_dataset.groupby('Location_HQ')['employee_count'].sum()\n",
    "laid_off_count_by_location_India = India_dataset.groupby('Location_HQ')['Laid_Off_Count'].sum()"
   ]
  },
  {
   "cell_type": "code",
   "execution_count": 52,
   "id": "7843daf6",
   "metadata": {},
   "outputs": [
    {
     "data": {
      "text/plain": [
       "Location_HQ\n",
       "Bengaluru    2.009731e+07\n",
       "Mumbai       3.926534e+06\n",
       "Gurugram     3.721767e+06\n",
       "New Delhi    9.567250e+05\n",
       "Patna        5.087988e+05\n",
       "Noida        1.223452e+05\n",
       "Ahmedabad    1.000000e+05\n",
       "Hyderabad    9.861061e+04\n",
       "Chennai      4.666667e+04\n",
       "Indore       2.907159e+04\n",
       "Pune         2.727273e+04\n",
       "Name: employee_count, dtype: float64"
      ]
     },
     "execution_count": 52,
     "metadata": {},
     "output_type": "execute_result"
    }
   ],
   "source": [
    "# Sorting employee count (headquarter location wise) for Indian based companies in descending order:\n",
    "employee_count_by_location_India = employee_count_by_location_India.sort_values(ascending=False)\n",
    "employee_count_by_location_India"
   ]
  },
  {
   "cell_type": "code",
   "execution_count": 53,
   "id": "7fc039ef",
   "metadata": {},
   "outputs": [
    {
     "data": {
      "text/plain": [
       "Location_HQ\n",
       "Bengaluru    25565.192308\n",
       "Gurugram      7393.597633\n",
       "Mumbai        6932.597633\n",
       "New Delhi     1910.000000\n",
       "Noida          504.399408\n",
       "Ahmedabad      500.000000\n",
       "Hyderabad      254.399408\n",
       "Patna          254.399408\n",
       "Chennai        150.000000\n",
       "Indore          75.000000\n",
       "Pune            30.000000\n",
       "Name: Laid_Off_Count, dtype: float64"
      ]
     },
     "execution_count": 53,
     "metadata": {},
     "output_type": "execute_result"
    }
   ],
   "source": [
    "# Sorting layoff count (headquarter location wise) for Indian based companies in descending order:\n",
    "laid_off_count_by_location_India = laid_off_count_by_location_India.sort_values(ascending=False)\n",
    "laid_off_count_by_location_India"
   ]
  },
  {
   "cell_type": "code",
   "execution_count": 54,
   "id": "039310c7",
   "metadata": {},
   "outputs": [
    {
     "data": {
      "text/plain": [
       "Location_HQ\n",
       "Ahmedabad    0.500000\n",
       "Noida        0.412275\n",
       "Chennai      0.321429\n",
       "Hyderabad    0.257984\n",
       "Indore       0.257984\n",
       "New Delhi    0.199639\n",
       "Gurugram     0.198658\n",
       "Mumbai       0.176558\n",
       "Bengaluru    0.127207\n",
       "Pune         0.110000\n",
       "Patna        0.050000\n",
       "dtype: float64"
      ]
     },
     "execution_count": 54,
     "metadata": {},
     "output_type": "execute_result"
    }
   ],
   "source": [
    "# finding the layoff percentage for every headquarter location for Indian based companies and sorting it in descending order:\n",
    "location_wise_layoff_percentage_India = ((laid_off_count_by_location_India)/(employee_count_by_location_India))*100\n",
    "location_wise_layoff_percentage_India = location_wise_layoff_percentage_India.sort_values(ascending=False)\n",
    "location_wise_layoff_percentage_India"
   ]
  },
  {
   "cell_type": "markdown",
   "id": "3b4f1a52",
   "metadata": {},
   "source": [
    "# Creating line graph depicting the headquarter location wise layoff percentage for Indian based companies:"
   ]
  },
  {
   "cell_type": "code",
   "execution_count": 55,
   "id": "76946ee0",
   "metadata": {},
   "outputs": [
    {
     "data": {
      "image/png": "[encoded data removed]",
      "text/plain": [
       "<Figure size 432x288 with 1 Axes>"
      ]
     },
     "metadata": {
      "needs_background": "light"
     },
     "output_type": "display_data"
    }
   ],
   "source": [
    "import pandas as pd\n",
    "import matplotlib.pyplot as plt\n",
    "\n",
    "# Define the data\n",
    "data = {'Location_HQ': ['Ahmedabad', 'Noida', 'Chennai', 'Hyderabad', 'Indore', 'New Delhi', 'Gurugram', 'Mumbai', 'Bengaluru', 'Pune', 'Patna'], \n",
    "        'Layoff_Percentage': [0.5, 0.412275, 0.321429, 0.257984, 0.257984, 0.199639, 0.198658, 0.176558, 0.127207, 0.11, 0.05]}\n",
    "\n",
    "# Convert the data to a DataFrame\n",
    "location_wise_layoff_percentage = pd.DataFrame(data)\n",
    "\n",
    "# Fill NaN values with 0\n",
    "location_wise_layoff_percentage.fillna(0, inplace=True)\n",
    "\n",
    "# Create the line graph\n",
    "plt.plot(location_wise_layoff_percentage['Location_HQ'], location_wise_layoff_percentage['Layoff_Percentage'], marker='o')\n",
    "\n",
    "# Set the title and axis labels\n",
    "plt.title('Headquarter location wise layoff percentage for Indian based companies')\n",
    "plt.xlabel('Location_HQ')\n",
    "plt.ylabel('Layoff Percentage')\n",
    "\n",
    "# Rotate the x-axis labels to avoid overlapping\n",
    "plt.xticks(rotation=90)\n",
    "\n",
    "# Show the graph\n",
    "plt.show()\n"
   ]
  },
  {
   "cell_type": "markdown",
   "id": "2eadb532",
   "metadata": {},
   "source": [
    "# For Netherlands:"
   ]
  },
  {
   "cell_type": "code",
   "execution_count": 56,
   "id": "53210fa7",
   "metadata": {},
   "outputs": [],
   "source": [
    "# finding employee and layoff count (headquarter location wise) in Netherlands:\n",
    "\n",
    "employee_count_by_location_Netherlands = Netherlands_dataset.groupby('Location_HQ')['employee_count'].sum()\n",
    "laid_off_count_by_location_Netherlands = Netherlands_dataset.groupby('Location_HQ')['Laid_Off_Count'].sum()"
   ]
  },
  {
   "cell_type": "code",
   "execution_count": 57,
   "id": "7b4d1d05",
   "metadata": {},
   "outputs": [
    {
     "data": {
      "text/plain": [
       "Location_HQ\n",
       "Amsterdam    1.672803e+07\n",
       "The Hague    3.100970e+04\n",
       "Name: employee_count, dtype: float64"
      ]
     },
     "execution_count": 57,
     "metadata": {},
     "output_type": "execute_result"
    }
   ],
   "source": [
    "# Sorting employee count (headquarter location wise) for Netherland based companies in descending order:\n",
    "employee_count_by_location_Netherlands = employee_count_by_location_Netherlands.sort_values(ascending=False)\n",
    "employee_count_by_location_Netherlands"
   ]
  },
  {
   "cell_type": "code",
   "execution_count": 58,
   "id": "481b54c0",
   "metadata": {},
   "outputs": [
    {
     "data": {
      "text/plain": [
       "Location_HQ\n",
       "Amsterdam    18157.597633\n",
       "The Hague       80.000000\n",
       "Name: Laid_Off_Count, dtype: float64"
      ]
     },
     "execution_count": 58,
     "metadata": {},
     "output_type": "execute_result"
    }
   ],
   "source": [
    "# Sorting layoff count (headquarter location wise) for Netherland based companies in descending order:\n",
    "laid_off_count_by_location_Netherlands = laid_off_count_by_location_Netherlands.sort_values(ascending=False)\n",
    "laid_off_count_by_location_Netherlands"
   ]
  },
  {
   "cell_type": "code",
   "execution_count": 59,
   "id": "7482e08c",
   "metadata": {},
   "outputs": [
    {
     "data": {
      "text/plain": [
       "Location_HQ\n",
       "The Hague    0.257984\n",
       "Amsterdam    0.108546\n",
       "dtype: float64"
      ]
     },
     "execution_count": 59,
     "metadata": {},
     "output_type": "execute_result"
    }
   ],
   "source": [
    "# finding the layoff percentage for every headquarter location for Netherland based companies and sorting it in descending order:\n",
    "location_wise_layoff_percentage_Netherlands = ((laid_off_count_by_location_Netherlands)/(employee_count_by_location_Netherlands))*100\n",
    "location_wise_layoff_percentage_Netherlands = location_wise_layoff_percentage_Netherlands.sort_values(ascending=False)\n",
    "location_wise_layoff_percentage_Netherlands"
   ]
  },
  {
   "cell_type": "markdown",
   "id": "fda1940f",
   "metadata": {},
   "source": [
    "# Creating line graph depicting the headquarter location wise layoff percentage for Netherland based companies:"
   ]
  },
  {
   "cell_type": "code",
   "execution_count": 60,
   "id": "8b2d39f4",
   "metadata": {},
   "outputs": [
    {
     "data": {
      "image/png": "[encoded data removed]",
      "text/plain": [
       "<Figure size 432x288 with 1 Axes>"
      ]
     },
     "metadata": {
      "needs_background": "light"
     },
     "output_type": "display_data"
    }
   ],
   "source": [
    "import pandas as pd\n",
    "import matplotlib.pyplot as plt\n",
    "\n",
    "# Define the data\n",
    "data = {'Location_HQ': ['The Hague', 'Amsterdam'], \n",
    "        'Layoff_Percentage': [0.257984, 0.108546]}\n",
    "\n",
    "# Convert the data to a DataFrame\n",
    "location_wise_layoff_percentage = pd.DataFrame(data)\n",
    "\n",
    "# Fill NaN values with 0\n",
    "location_wise_layoff_percentage.fillna(0, inplace=True)\n",
    "\n",
    "# Create the line graph\n",
    "plt.plot(location_wise_layoff_percentage['Location_HQ'], location_wise_layoff_percentage['Layoff_Percentage'], marker='o')\n",
    "\n",
    "# Set the title and axis labels\n",
    "plt.title('Headquarter location wise layoff percentage for Netherlands based companies')\n",
    "plt.xlabel('Location_HQ')\n",
    "plt.ylabel('Layoff Percentage')\n",
    "\n",
    "# Rotate the x-axis labels to avoid overlapping\n",
    "plt.xticks(rotation=90)\n",
    "\n",
    "# Show the graph\n",
    "plt.show()\n"
   ]
  },
  {
   "cell_type": "markdown",
   "id": "52f23888",
   "metadata": {},
   "source": [
    "# For United Kingdom:"
   ]
  },
  {
   "cell_type": "code",
   "execution_count": 61,
   "id": "e3413f8b",
   "metadata": {},
   "outputs": [],
   "source": [
    "# finding employee and layoff count (headquarter location wise) in United Kingdom:\n",
    "\n",
    "employee_count_by_location_United_Kingdom = United_Kingdom_dataset.groupby('Location_HQ')['employee_count'].sum()\n",
    "laid_off_count_by_location_United_Kingdom = United_Kingdom_dataset.groupby('Location_HQ')['Laid_Off_Count'].sum()"
   ]
  },
  {
   "cell_type": "code",
   "execution_count": 62,
   "id": "283c02b6",
   "metadata": {},
   "outputs": [
    {
     "data": {
      "text/plain": [
       "Location_HQ\n",
       "London        7.926975e+06\n",
       "Manchester    1.785714e+05\n",
       "Edinburgh     1.500000e+05\n",
       "Bristol       1.366106e+05\n",
       "Chester       2.500000e+04\n",
       "Name: employee_count, dtype: float64"
      ]
     },
     "execution_count": 62,
     "metadata": {},
     "output_type": "execute_result"
    }
   ],
   "source": [
    "# Sorting employee count (headquarter location wise) for United Kingdom based companies in descending order:\n",
    "employee_count_by_location_United_Kingdom = employee_count_by_location_United_Kingdom.sort_values(ascending=False)\n",
    "employee_count_by_location_United_Kingdom"
   ]
  },
  {
   "cell_type": "code",
   "execution_count": 63,
   "id": "eeda334a",
   "metadata": {},
   "outputs": [
    {
     "data": {
      "text/plain": [
       "Location_HQ\n",
       "London        15508.183432\n",
       "Edinburgh       300.000000\n",
       "Bristol         292.399408\n",
       "Manchester      125.000000\n",
       "Chester          40.000000\n",
       "Name: Laid_Off_Count, dtype: float64"
      ]
     },
     "execution_count": 63,
     "metadata": {},
     "output_type": "execute_result"
    }
   ],
   "source": [
    "# Sorting layoff count (headquarter location wise) for United Kingdom based companies in descending order:\n",
    "laid_off_count_by_location_United_Kingdom = laid_off_count_by_location_United_Kingdom.sort_values(ascending=False)\n",
    "laid_off_count_by_location_United_Kingdom"
   ]
  },
  {
   "cell_type": "code",
   "execution_count": 64,
   "id": "dcc62320",
   "metadata": {},
   "outputs": [
    {
     "data": {
      "text/plain": [
       "Location_HQ\n",
       "Bristol       0.214039\n",
       "Edinburgh     0.200000\n",
       "London        0.195638\n",
       "Chester       0.160000\n",
       "Manchester    0.070000\n",
       "dtype: float64"
      ]
     },
     "execution_count": 64,
     "metadata": {},
     "output_type": "execute_result"
    }
   ],
   "source": [
    "# finding the layoff percentage for every headquarter location for United Kingdom based companies and sorting it in descending order:\n",
    "location_wise_layoff_percentage_United_Kingdom = ((laid_off_count_by_location_United_Kingdom)/(employee_count_by_location_United_Kingdom))*100\n",
    "location_wise_layoff_percentage_United_Kingdom = location_wise_layoff_percentage_United_Kingdom.sort_values(ascending=False)\n",
    "location_wise_layoff_percentage_United_Kingdom"
   ]
  },
  {
   "cell_type": "markdown",
   "id": "7778e5d0",
   "metadata": {},
   "source": [
    "# Creating line graph depicting the headquarter location wise layoff percentage for United Kingdom based companies:"
   ]
  },
  {
   "cell_type": "code",
   "execution_count": 65,
   "id": "4c7a6d1b",
   "metadata": {},
   "outputs": [
    {
     "data": {
      "image/png": "[encoded data removed]",
      "text/plain": [
       "<Figure size 432x288 with 1 Axes>"
      ]
     },
     "metadata": {
      "needs_background": "light"
     },
     "output_type": "display_data"
    }
   ],
   "source": [
    "import matplotlib.pyplot as plt\n",
    "\n",
    "# Define the data\n",
    "data = {'Location_HQ': ['Bristol', 'Edinburgh', 'London', 'Chester', 'Manchester'], \n",
    "        'Layoff_Percentage': [0.214039, 0.2, 0.195638, 0.16, 0.07]}\n",
    "\n",
    "# Convert the data to a DataFrame\n",
    "location_wise_layoff_percentage = pd.DataFrame(data)\n",
    "\n",
    "# Fill NaN values with 0\n",
    "location_wise_layoff_percentage.fillna(0, inplace=True)\n",
    "\n",
    "# Create the line graph\n",
    "plt.plot(location_wise_layoff_percentage['Location_HQ'], location_wise_layoff_percentage['Layoff_Percentage'], marker='o')\n",
    "\n",
    "# Set the title and axis labels\n",
    "plt.title('Headquarter location wise layoff percentage for United Kingdom based companies')\n",
    "plt.xlabel('Location_HQ')\n",
    "plt.ylabel('Layoff Percentage')\n",
    "\n",
    "# Rotate the x-axis labels to avoid overlapping\n",
    "plt.xticks(rotation=90)\n",
    "\n",
    "# Show the graph\n",
    "plt.show()"
   ]
  },
  {
   "cell_type": "markdown",
   "id": "17219aea",
   "metadata": {},
   "source": [
    "# For Brazil:"
   ]
  },
  {
   "cell_type": "code",
   "execution_count": 66,
   "id": "448c5969",
   "metadata": {},
   "outputs": [],
   "source": [
    "# finding employee and layoff count (headquarter location wise) in Brazil:\n",
    "\n",
    "employee_count_by_location_Brazil = Brazil_dataset.groupby('Location_HQ')['employee_count'].sum()\n",
    "laid_off_count_by_location_Brazil = Brazil_dataset.groupby('Location_HQ')['Laid_Off_Count'].sum()"
   ]
  },
  {
   "cell_type": "code",
   "execution_count": 67,
   "id": "6274bfab",
   "metadata": {},
   "outputs": [
    {
     "data": {
      "text/plain": [
       "Location_HQ\n",
       "Sao Paulo         8.585538e+06\n",
       "Curitiba          7.433318e+05\n",
       "Belo Horizonte    2.789286e+05\n",
       "Joinville         5.275000e+04\n",
       "Florianópolis     3.888889e+04\n",
       "Blumenau          3.258106e+04\n",
       "Brasilia          3.000000e+04\n",
       "Porto Alegre      1.938106e+04\n",
       "Name: employee_count, dtype: float64"
      ]
     },
     "execution_count": 67,
     "metadata": {},
     "output_type": "execute_result"
    }
   ],
   "source": [
    "# Sorting employee count (headquarter location wise) for United Kingdom based companies in descending order:\n",
    "employee_count_by_location_Brazil = employee_count_by_location_Brazil.sort_values(ascending=False)\n",
    "employee_count_by_location_Brazil"
   ]
  },
  {
   "cell_type": "code",
   "execution_count": 68,
   "id": "39e52246",
   "metadata": {},
   "outputs": [
    {
     "data": {
      "text/plain": [
       "Location_HQ\n",
       "Sao Paulo         10761.795858\n",
       "Curitiba           1225.198225\n",
       "Belo Horizonte      494.000000\n",
       "Joinville           191.000000\n",
       "Blumenau             83.000000\n",
       "Florianópolis        70.000000\n",
       "Brasilia             60.000000\n",
       "Porto Alegre         50.000000\n",
       "Name: Laid_Off_Count, dtype: float64"
      ]
     },
     "execution_count": 68,
     "metadata": {},
     "output_type": "execute_result"
    }
   ],
   "source": [
    "# Sorting layoff count (headquarter location wise) for Brazil based companies in descending order:\n",
    "laid_off_count_by_location_Brazil = laid_off_count_by_location_Brazil.sort_values(ascending=False)\n",
    "laid_off_count_by_location_Brazil"
   ]
  },
  {
   "cell_type": "code",
   "execution_count": 69,
   "id": "640572d4",
   "metadata": {},
   "outputs": [
    {
     "data": {
      "text/plain": [
       "Location_HQ\n",
       "Joinville         0.362085\n",
       "Porto Alegre      0.257984\n",
       "Blumenau          0.254749\n",
       "Brasilia          0.200000\n",
       "Florianópolis     0.180000\n",
       "Belo Horizonte    0.177106\n",
       "Curitiba          0.164825\n",
       "Sao Paulo         0.125348\n",
       "dtype: float64"
      ]
     },
     "execution_count": 69,
     "metadata": {},
     "output_type": "execute_result"
    }
   ],
   "source": [
    "# finding the layoff percentage for every headquarter location for Brazil based companies and sorting it in descending order:\n",
    "location_wise_layoff_percentage_Brazil = ((laid_off_count_by_location_Brazil)/(employee_count_by_location_Brazil))*100\n",
    "location_wise_layoff_percentage_Brazil = location_wise_layoff_percentage_Brazil.sort_values(ascending=False)\n",
    "location_wise_layoff_percentage_Brazil"
   ]
  },
  {
   "cell_type": "markdown",
   "id": "d6ab95b0",
   "metadata": {},
   "source": [
    "# Creating line graph depicting the headquarter location wise layoff percentage for Brazil based companies:"
   ]
  },
  {
   "cell_type": "code",
   "execution_count": 70,
   "id": "a95691cf",
   "metadata": {},
   "outputs": [
    {
     "data": {
      "image/png": "[encoded data removed]",
      "text/plain": [
       "<Figure size 432x288 with 1 Axes>"
      ]
     },
     "metadata": {
      "needs_background": "light"
     },
     "output_type": "display_data"
    }
   ],
   "source": [
    "import pandas as pd\n",
    "import matplotlib.pyplot as plt\n",
    "\n",
    "# Define the data\n",
    "data = {'Location_HQ': ['Joinville', 'Porto Alegre', 'Blumenau', 'Brasilia', 'Florianópolis', 'Belo Horizonte', 'Curitiba', 'Sao Paulo'], \n",
    "        'Layoff_Percentage': [0.362085, 0.257984, 0.254749, 0.2, 0.18, 0.177106, 0.164825, 0.125348]}\n",
    "\n",
    "# Convert the data to a DataFrame and rename it\n",
    "location_wise_layoff_percentage = pd.DataFrame(data)\n",
    "\n",
    "# Fill NaN values with 0\n",
    "location_wise_layoff_percentage.fillna(0, inplace=True)\n",
    "\n",
    "# Create the line graph\n",
    "plt.plot(location_wise_layoff_percentage['Location_HQ'], location_wise_layoff_percentage['Layoff_Percentage'], marker='o')\n",
    "\n",
    "# Set the title and axis labels\n",
    "plt.title('Headquarter location wise layoff percentage for Brazil based companies')\n",
    "plt.xlabel('Location_HQ')\n",
    "plt.ylabel('Layoff Percentage')\n",
    "\n",
    "# Rotate the x-axis labels to avoid overlapping\n",
    "plt.xticks(rotation=90)\n",
    "\n",
    "# Show the graph\n",
    "plt.show()\n"
   ]
  },
  {
   "cell_type": "markdown",
   "id": "2dc63508",
   "metadata": {},
   "source": [
    "# Now we'll be seeing which companies have benefitted from layoffs.We have got a column in our dataset which talks about the funds raised by a company by laying off employees.Secondly,we can calculate the percentage of employees every company had laid off in order to raise those funds(we already have this information in the original dataset).Based on these 2 things,we can find which companies benefitted the most and which companies benefitted the least:"
   ]
  },
  {
   "cell_type": "code",
   "execution_count": 71,
   "id": "dc2bd3aa",
   "metadata": {},
   "outputs": [
    {
     "data": {
      "text/html": [
       "<div>\n",
       "<style scoped>\n",
       "    .dataframe tbody tr th:only-of-type {\n",
       "        vertical-align: middle;\n",
       "    }\n",
       "\n",
       "    .dataframe tbody tr th {\n",
       "        vertical-align: top;\n",
       "    }\n",
       "\n",
       "    .dataframe thead th {\n",
       "        text-align: right;\n",
       "    }\n",
       "</style>\n",
       "<table border=\"1\" class=\"dataframe\">\n",
       "  <thead>\n",
       "    <tr style=\"text-align: right;\">\n",
       "      <th></th>\n",
       "      <th>Company</th>\n",
       "      <th>Location_HQ</th>\n",
       "      <th>Industry</th>\n",
       "      <th>Laid_Off_Count</th>\n",
       "      <th>Percentage</th>\n",
       "      <th>Date</th>\n",
       "      <th>Funds_Raised</th>\n",
       "      <th>Stage</th>\n",
       "      <th>Country</th>\n",
       "      <th>employee_count</th>\n",
       "      <th>Benefit</th>\n",
       "    </tr>\n",
       "  </thead>\n",
       "  <tbody>\n",
       "    <tr>\n",
       "      <th>0</th>\n",
       "      <td>Dunzo</td>\n",
       "      <td>Bengaluru</td>\n",
       "      <td>Food</td>\n",
       "      <td>300.000000</td>\n",
       "      <td>0.300000</td>\n",
       "      <td>2023-04-05</td>\n",
       "      <td>382.000000</td>\n",
       "      <td>Unknown</td>\n",
       "      <td>India</td>\n",
       "      <td>100000.000000</td>\n",
       "      <td>1273.333333</td>\n",
       "    </tr>\n",
       "    <tr>\n",
       "      <th>1</th>\n",
       "      <td>Amplitude</td>\n",
       "      <td>SF Bay Area</td>\n",
       "      <td>Data</td>\n",
       "      <td>99.000000</td>\n",
       "      <td>0.130000</td>\n",
       "      <td>2023-04-05</td>\n",
       "      <td>311.000000</td>\n",
       "      <td>Post-IPO</td>\n",
       "      <td>United States</td>\n",
       "      <td>76153.846154</td>\n",
       "      <td>2392.307692</td>\n",
       "    </tr>\n",
       "    <tr>\n",
       "      <th>2</th>\n",
       "      <td>1K Kirana</td>\n",
       "      <td>Gurugram</td>\n",
       "      <td>Retail</td>\n",
       "      <td>600.000000</td>\n",
       "      <td>0.400000</td>\n",
       "      <td>2023-04-04</td>\n",
       "      <td>823.746888</td>\n",
       "      <td>Series B</td>\n",
       "      <td>India</td>\n",
       "      <td>150000.000000</td>\n",
       "      <td>2059.367221</td>\n",
       "    </tr>\n",
       "    <tr>\n",
       "      <th>3</th>\n",
       "      <td>Boost</td>\n",
       "      <td>New York City</td>\n",
       "      <td>Finance</td>\n",
       "      <td>15.000000</td>\n",
       "      <td>0.200000</td>\n",
       "      <td>2023-04-04</td>\n",
       "      <td>37.000000</td>\n",
       "      <td>Series B</td>\n",
       "      <td>United States</td>\n",
       "      <td>7500.000000</td>\n",
       "      <td>185.000000</td>\n",
       "    </tr>\n",
       "    <tr>\n",
       "      <th>4</th>\n",
       "      <td>Cin7</td>\n",
       "      <td>Auckland</td>\n",
       "      <td>Retail</td>\n",
       "      <td>254.399408</td>\n",
       "      <td>0.257984</td>\n",
       "      <td>2023-04-04</td>\n",
       "      <td>823.746888</td>\n",
       "      <td>Private Equity</td>\n",
       "      <td>New Zealand</td>\n",
       "      <td>98610.605337</td>\n",
       "      <td>3193.017620</td>\n",
       "    </tr>\n",
       "  </tbody>\n",
       "</table>\n",
       "</div>"
      ],
      "text/plain": [
       "     Company    Location_HQ Industry  Laid_Off_Count  Percentage       Date  \\\n",
       "0      Dunzo      Bengaluru     Food      300.000000    0.300000 2023-04-05   \n",
       "1  Amplitude    SF Bay Area     Data       99.000000    0.130000 2023-04-05   \n",
       "2  1K Kirana       Gurugram   Retail      600.000000    0.400000 2023-04-04   \n",
       "3      Boost  New York City  Finance       15.000000    0.200000 2023-04-04   \n",
       "4       Cin7       Auckland   Retail      254.399408    0.257984 2023-04-04   \n",
       "\n",
       "   Funds_Raised           Stage        Country  employee_count      Benefit  \n",
       "0    382.000000         Unknown          India   100000.000000  1273.333333  \n",
       "1    311.000000        Post-IPO  United States    76153.846154  2392.307692  \n",
       "2    823.746888        Series B          India   150000.000000  2059.367221  \n",
       "3     37.000000        Series B  United States     7500.000000   185.000000  \n",
       "4    823.746888  Private Equity    New Zealand    98610.605337  3193.017620  "
      ]
     },
     "execution_count": 71,
     "metadata": {},
     "output_type": "execute_result"
    }
   ],
   "source": [
    "# First we create a benefit column and store the information in a separate dataset containing all other info of original dataset also.\n",
    "\n",
    "dataset_copy_2 = dataset_copy\n",
    "dataset_copy_2['Benefit'] = dataset['Funds_Raised']/dataset['Percentage']\n",
    "dataset_copy_2.head()"
   ]
  },
  {
   "cell_type": "code",
   "execution_count": 72,
   "id": "dc6751da",
   "metadata": {},
   "outputs": [
    {
     "data": {
      "text/html": [
       "<div>\n",
       "<style scoped>\n",
       "    .dataframe tbody tr th:only-of-type {\n",
       "        vertical-align: middle;\n",
       "    }\n",
       "\n",
       "    .dataframe tbody tr th {\n",
       "        vertical-align: top;\n",
       "    }\n",
       "\n",
       "    .dataframe thead th {\n",
       "        text-align: right;\n",
       "    }\n",
       "</style>\n",
       "<table border=\"1\" class=\"dataframe\">\n",
       "  <thead>\n",
       "    <tr style=\"text-align: right;\">\n",
       "      <th></th>\n",
       "      <th>Company</th>\n",
       "      <th>Benefit</th>\n",
       "    </tr>\n",
       "  </thead>\n",
       "  <tbody>\n",
       "    <tr>\n",
       "      <th>0</th>\n",
       "      <td>Dunzo</td>\n",
       "      <td>1273.333333</td>\n",
       "    </tr>\n",
       "    <tr>\n",
       "      <th>1</th>\n",
       "      <td>Amplitude</td>\n",
       "      <td>2392.307692</td>\n",
       "    </tr>\n",
       "    <tr>\n",
       "      <th>2</th>\n",
       "      <td>1K Kirana</td>\n",
       "      <td>2059.367221</td>\n",
       "    </tr>\n",
       "    <tr>\n",
       "      <th>3</th>\n",
       "      <td>Boost</td>\n",
       "      <td>185.000000</td>\n",
       "    </tr>\n",
       "    <tr>\n",
       "      <th>4</th>\n",
       "      <td>Cin7</td>\n",
       "      <td>3193.017620</td>\n",
       "    </tr>\n",
       "    <tr>\n",
       "      <th>...</th>\n",
       "      <td>...</td>\n",
       "      <td>...</td>\n",
       "    </tr>\n",
       "    <tr>\n",
       "      <th>2463</th>\n",
       "      <td>HopSkipDrive</td>\n",
       "      <td>450.000000</td>\n",
       "    </tr>\n",
       "    <tr>\n",
       "      <th>2464</th>\n",
       "      <td>Panda Squad</td>\n",
       "      <td>1.333333</td>\n",
       "    </tr>\n",
       "    <tr>\n",
       "      <th>2465</th>\n",
       "      <td>Tamara Mellon</td>\n",
       "      <td>225.000000</td>\n",
       "    </tr>\n",
       "    <tr>\n",
       "      <th>2466</th>\n",
       "      <td>EasyPost</td>\n",
       "      <td>46.514545</td>\n",
       "    </tr>\n",
       "    <tr>\n",
       "      <th>2467</th>\n",
       "      <td>Blackbaud</td>\n",
       "      <td>5883.906345</td>\n",
       "    </tr>\n",
       "  </tbody>\n",
       "</table>\n",
       "<p>2468 rows × 2 columns</p>\n",
       "</div>"
      ],
      "text/plain": [
       "            Company      Benefit\n",
       "0             Dunzo  1273.333333\n",
       "1         Amplitude  2392.307692\n",
       "2         1K Kirana  2059.367221\n",
       "3             Boost   185.000000\n",
       "4              Cin7  3193.017620\n",
       "...             ...          ...\n",
       "2463   HopSkipDrive   450.000000\n",
       "2464    Panda Squad     1.333333\n",
       "2465  Tamara Mellon   225.000000\n",
       "2466       EasyPost    46.514545\n",
       "2467      Blackbaud  5883.906345\n",
       "\n",
       "[2468 rows x 2 columns]"
      ]
     },
     "execution_count": 72,
     "metadata": {},
     "output_type": "execute_result"
    }
   ],
   "source": [
    "# The columns of use from the dataset we just created are Company & Benefit because we have to find out the benefit for\n",
    "# every company,so we extract the useful columns and store it in separate dataframe.\n",
    "\n",
    "company_benefit = dataset_copy_2.loc[:,['Company','Benefit']]\n",
    "company_benefit"
   ]
  },
  {
   "cell_type": "code",
   "execution_count": 73,
   "id": "1a725fd9",
   "metadata": {
    "scrolled": true
   },
   "outputs": [
    {
     "name": "stdout",
     "output_type": "stream",
     "text": [
      "Company\n",
      " E Inc.              3193.017620\n",
      " Included Health     4533.333333\n",
      "#Paid                 123.529412\n",
      "&Open                 388.888889\n",
      "100 Thieves           465.145447\n",
      "                        ...     \n",
      "iRobot                364.285714\n",
      "kununu               3193.017620\n",
      "nCino               15714.285714\n",
      "tZero                1829.572090\n",
      "uShip                 186.486486\n",
      "Name: Benefit, Length: 1970, dtype: float64\n"
     ]
    }
   ],
   "source": [
    "# In the dataset we have multiple instances of same company becuse there is a date column which indicates the percentage of\n",
    "# employees laid off on a particular date in that company.So the benefit of the company across different dates will be\n",
    "# different.To find the benefit of the companies we'll have to find the average of all these benefits.\n",
    "\n",
    "average_benefit_by_company = company_benefit.groupby('Company')['Benefit'].mean()\n",
    "print(average_benefit_by_company)"
   ]
  },
  {
   "cell_type": "code",
   "execution_count": 74,
   "id": "e640dcbf",
   "metadata": {},
   "outputs": [
    {
     "data": {
      "text/plain": [
       "Company\n",
       "TaskUs                    inf\n",
       "Netflix          4.299588e+06\n",
       "Tesla            2.020000e+05\n",
       "Grab             1.980000e+05\n",
       "Rivian           1.705556e+05\n",
       "                     ...     \n",
       "BitMEX           0.000000e+00\n",
       "Drip             0.000000e+00\n",
       "SuperLearn       0.000000e+00\n",
       "Tuft & Needle    0.000000e+00\n",
       "Chessable        0.000000e+00\n",
       "Name: Benefit, Length: 1970, dtype: float64"
      ]
     },
     "execution_count": 74,
     "metadata": {},
     "output_type": "execute_result"
    }
   ],
   "source": [
    "# Finally to find out which company profited the most we'll have to sort the average_benefit_by_company dataset in descending\n",
    "# order\n",
    "\n",
    "average_benefit_by_company = average_benefit_by_company.sort_values(ascending=False)\n",
    "average_benefit_by_company"
   ]
  },
  {
   "cell_type": "markdown",
   "id": "4dfe3373",
   "metadata": {},
   "source": [
    "# Let's represent the profit of the top five most profitable companies on a bar graph:"
   ]
  },
  {
   "cell_type": "code",
   "execution_count": 75,
   "id": "4175f7fa",
   "metadata": {},
   "outputs": [
    {
     "data": {
      "image/png": "[encoded data removed]",
      "text/plain": [
       "<Figure size 432x288 with 1 Axes>"
      ]
     },
     "metadata": {
      "needs_background": "light"
     },
     "output_type": "display_data"
    }
   ],
   "source": [
    "import matplotlib.pyplot as plt\n",
    "\n",
    "# Data\n",
    "companies = ['Netflix', 'Tesla', 'Grab', 'Rivian', 'Meta']\n",
    "profits = [4299588, 202000, 198000, 170556, 150390]\n",
    "\n",
    "# Bar graph\n",
    "plt.bar(companies, profits)\n",
    "\n",
    "# X-axis label\n",
    "plt.xlabel('Company')\n",
    "\n",
    "# Y-axis label\n",
    "plt.ylabel('Profit')\n",
    "\n",
    "# Title\n",
    "plt.title('Company-wise Profit')\n",
    "\n",
    "# Show the plot\n",
    "plt.show()"
   ]
  },
  {
   "cell_type": "markdown",
   "id": "1aa2db2c",
   "metadata": {},
   "source": [
    "# We see that Netflix has benefitted significantly from layoffs compared to the other four companies.So,let's create a heatmap in order to understand the benefit of Netflix across different days:"
   ]
  },
  {
   "cell_type": "code",
   "execution_count": 76,
   "id": "ccd26928",
   "metadata": {},
   "outputs": [
    {
     "data": {
      "text/plain": [
       "<AxesSubplot:xlabel='Date', ylabel='Location_HQ'>"
      ]
     },
     "execution_count": 76,
     "metadata": {},
     "output_type": "execute_result"
    },
    {
     "data": {
      "image/png": "[encoded data removed]",
      "text/plain": [
       "<Figure size 432x288 with 2 Axes>"
      ]
     },
     "metadata": {
      "needs_background": "light"
     },
     "output_type": "display_data"
    }
   ],
   "source": [
    "import pandas as pd\n",
    "import seaborn as sns\n",
    "\n",
    "# Filter the dataset for Netflix\n",
    "netflix_df = dataset_copy_2[dataset_copy_2['Company'] == 'Netflix']\n",
    "\n",
    "# Pivot the dataframe\n",
    "netflix_pivot = netflix_df.pivot(index='Location_HQ', columns='Date', values='Benefit')\n",
    "\n",
    "# Create the heatmap\n",
    "sns.heatmap(netflix_pivot, cmap='YlGnBu')\n"
   ]
  },
  {
   "cell_type": "code",
   "execution_count": 77,
   "id": "e0c497c2",
   "metadata": {},
   "outputs": [
    {
     "name": "stdout",
     "output_type": "stream",
     "text": [
      "      Company  Location_HQ Industry  Laid_Off_Count  Percentage       Date  \\\n",
      "1084  Netflix  SF Bay Area    Media            30.0    0.257984 2022-09-14   \n",
      "1504  Netflix  SF Bay Area    Media           300.0    0.030000 2022-06-23   \n",
      "1693  Netflix  SF Bay Area    Media           150.0    0.010000 2022-05-17   \n",
      "1728  Netflix  SF Bay Area    Media            25.0    0.257984 2022-04-28   \n",
      "\n",
      "      Funds_Raised     Stage        Country  employee_count       Benefit  \n",
      "1084      121900.0  Post-IPO  United States    1.162864e+04  4.725102e+05  \n",
      "1504      121900.0  Post-IPO  United States    1.000000e+06  4.063333e+06  \n",
      "1693      121900.0  Post-IPO  United States    1.500000e+06  1.219000e+07  \n",
      "1728      121900.0  Post-IPO  United States    9.690530e+03  4.725102e+05  \n"
     ]
    }
   ],
   "source": [
    "print(dataset_copy_2[dataset_copy_2['Company']=='Netflix'])\n"
   ]
  },
  {
   "cell_type": "markdown",
   "id": "192d708d",
   "metadata": {},
   "source": [
    "# Extracting the overall results obtained by analysis in separate csv's:"
   ]
  },
  {
   "cell_type": "code",
   "execution_count": 78,
   "id": "e5daa452",
   "metadata": {},
   "outputs": [
    {
     "data": {
      "text/plain": [
       "Industry\n",
       "Energy           0.260302\n",
       "Travel           0.244248\n",
       "Aerospace        0.231316\n",
       "Education        0.222929\n",
       "Manufacturing    0.211887\n",
       "dtype: float64"
      ]
     },
     "execution_count": 78,
     "metadata": {},
     "output_type": "execute_result"
    }
   ],
   "source": [
    "industry_wise_layoff_percentage_USA_top_five = industry_wise_layoff_percentage_USA[:5]\n",
    "industry_wise_layoff_percentage_USA_top_five"
   ]
  },
  {
   "cell_type": "code",
   "execution_count": 79,
   "id": "f2f5a73f",
   "metadata": {},
   "outputs": [],
   "source": [
    "file_path = r'C:\\Recession_Analysis_Dataset\\USA_industry_wise_layoff_percentage_top_five.csv'\n",
    "industry_wise_layoff_percentage_USA_top_five.to_csv(file_path,index=True)"
   ]
  },
  {
   "cell_type": "code",
   "execution_count": 80,
   "id": "61a05cf7",
   "metadata": {},
   "outputs": [
    {
     "data": {
      "text/plain": [
       "Industry\n",
       "Logistics    0.081074\n",
       "Retail       0.057571\n",
       "Sales        0.051312\n",
       "Hardware     0.050278\n",
       "Support           NaN\n",
       "dtype: float64"
      ]
     },
     "execution_count": 80,
     "metadata": {},
     "output_type": "execute_result"
    }
   ],
   "source": [
    "industry_wise_layoff_percentage_USA_bottom_five = industry_wise_layoff_percentage_USA[25:]\n",
    "industry_wise_layoff_percentage_USA_bottom_five"
   ]
  },
  {
   "cell_type": "code",
   "execution_count": 81,
   "id": "a6438b10",
   "metadata": {},
   "outputs": [
    {
     "data": {
      "text/plain": [
       "Industry\n",
       "Logistics    0.081074\n",
       "Retail       0.057571\n",
       "Sales        0.051312\n",
       "Hardware     0.050278\n",
       "Support      0.000000\n",
       "dtype: float64"
      ]
     },
     "execution_count": 81,
     "metadata": {},
     "output_type": "execute_result"
    }
   ],
   "source": [
    "industry_wise_layoff_percentage_USA_bottom_five['Support'] = 0\n",
    "industry_wise_layoff_percentage_USA_bottom_five"
   ]
  },
  {
   "cell_type": "code",
   "execution_count": 82,
   "id": "2d9fdbcb",
   "metadata": {},
   "outputs": [],
   "source": [
    "file_path = r'C:\\Recession_Analysis_Dataset\\USA_industry_wise_layoff_percentage_bottom_five.csv'\n",
    "industry_wise_layoff_percentage_USA_bottom_five.to_csv(file_path,index=True)"
   ]
  },
  {
   "cell_type": "code",
   "execution_count": 83,
   "id": "675bdc98",
   "metadata": {},
   "outputs": [
    {
     "data": {
      "text/plain": [
       "Location_HQ\n",
       "Brisbane        1.000000\n",
       "Selangor        1.000000\n",
       "Fayetteville    1.000000\n",
       "Chennai         1.000000\n",
       "Spokane         0.622708\n",
       "dtype: float64"
      ]
     },
     "execution_count": 83,
     "metadata": {},
     "output_type": "execute_result"
    }
   ],
   "source": [
    "location_wise_layoff_percentage_USA_top_five = location_wise_layoff_percentage_USA[:5]\n",
    "location_wise_layoff_percentage_USA_top_five"
   ]
  },
  {
   "cell_type": "code",
   "execution_count": 84,
   "id": "56eedca6",
   "metadata": {},
   "outputs": [],
   "source": [
    "file_path = r'C:\\Recession_Analysis_Dataset\\USA_location_wise_layoff_percentage_top_five.csv'\n",
    "location_wise_layoff_percentage_USA_top_five.to_csv(file_path,index=True)"
   ]
  },
  {
   "cell_type": "code",
   "execution_count": 85,
   "id": "2e24a08a",
   "metadata": {},
   "outputs": [
    {
     "data": {
      "text/plain": [
       "96"
      ]
     },
     "execution_count": 85,
     "metadata": {},
     "output_type": "execute_result"
    }
   ],
   "source": [
    "len(location_wise_layoff_percentage_USA)"
   ]
  },
  {
   "cell_type": "code",
   "execution_count": 86,
   "id": "b9b5e030",
   "metadata": {},
   "outputs": [
    {
     "data": {
      "text/plain": [
       "Location_HQ\n",
       "Boise          0.078117\n",
       "St. Louis      0.070178\n",
       "Seattle        0.048049\n",
       "Kansas City    0.020000\n",
       "Los Angeles         NaN\n",
       "dtype: float64"
      ]
     },
     "execution_count": 86,
     "metadata": {},
     "output_type": "execute_result"
    }
   ],
   "source": [
    "location_wise_layoff_percentage_USA_bottom_five = location_wise_layoff_percentage_USA[91:]\n",
    "location_wise_layoff_percentage_USA_bottom_five"
   ]
  },
  {
   "cell_type": "code",
   "execution_count": 87,
   "id": "f2d45bc5",
   "metadata": {},
   "outputs": [
    {
     "data": {
      "text/plain": [
       "Location_HQ\n",
       "Boise          0.078117\n",
       "St. Louis      0.070178\n",
       "Seattle        0.048049\n",
       "Kansas City    0.020000\n",
       "Los Angeles    0.000000\n",
       "dtype: float64"
      ]
     },
     "execution_count": 87,
     "metadata": {},
     "output_type": "execute_result"
    }
   ],
   "source": [
    "location_wise_layoff_percentage_USA_bottom_five['Los Angeles'] = 0\n",
    "location_wise_layoff_percentage_USA_bottom_five"
   ]
  },
  {
   "cell_type": "code",
   "execution_count": 88,
   "id": "aa59751a",
   "metadata": {},
   "outputs": [],
   "source": [
    "file_path = r'C:\\Recession_Analysis_Dataset\\USA_location_wise_layoff_percentage_bottom_five.csv'\n",
    "location_wise_layoff_percentage_USA_bottom_five.to_csv(file_path,index=True)"
   ]
  },
  {
   "cell_type": "code",
   "execution_count": 89,
   "id": "2faa55ac",
   "metadata": {},
   "outputs": [
    {
     "data": {
      "text/plain": [
       "Industry\n",
       "Construction      0.500000\n",
       "Crypto            0.407082\n",
       "Recruiting        0.400000\n",
       "Finance           0.314767\n",
       "Other             0.273294\n",
       "Logistics         0.271989\n",
       "Data              0.257984\n",
       "Marketing         0.246938\n",
       "Healthcare        0.244334\n",
       "Real Estate       0.238249\n",
       "HR                0.235249\n",
       "Consumer          0.230321\n",
       "Transportation    0.196448\n",
       "Travel            0.189791\n",
       "Support           0.184569\n",
       "Retail            0.177234\n",
       "Fitness           0.174070\n",
       "Media             0.131542\n",
       "Education         0.114536\n",
       "Food              0.078467\n",
       "dtype: float64"
      ]
     },
     "execution_count": 89,
     "metadata": {},
     "output_type": "execute_result"
    }
   ],
   "source": [
    "industry_wise_layoff_percentage_India"
   ]
  },
  {
   "cell_type": "code",
   "execution_count": 90,
   "id": "075b3587",
   "metadata": {},
   "outputs": [
    {
     "data": {
      "text/plain": [
       "Industry\n",
       "Construction    0.500000\n",
       "Crypto          0.407082\n",
       "Recruiting      0.400000\n",
       "Finance         0.314767\n",
       "Other           0.273294\n",
       "dtype: float64"
      ]
     },
     "execution_count": 90,
     "metadata": {},
     "output_type": "execute_result"
    }
   ],
   "source": [
    "industry_wise_layoff_percentage_India_top_five = industry_wise_layoff_percentage_India[:5]\n",
    "industry_wise_layoff_percentage_India_top_five"
   ]
  },
  {
   "cell_type": "code",
   "execution_count": 91,
   "id": "36518571",
   "metadata": {},
   "outputs": [],
   "source": [
    "file_path = r'C:\\Recession_Analysis_Dataset\\India_industry_wise_layoff_percentage_top_five.csv'\n",
    "industry_wise_layoff_percentage_India_top_five.to_csv(file_path,index=True)"
   ]
  },
  {
   "cell_type": "code",
   "execution_count": 92,
   "id": "ae7d2ce0",
   "metadata": {},
   "outputs": [
    {
     "data": {
      "text/plain": [
       "20"
      ]
     },
     "execution_count": 92,
     "metadata": {},
     "output_type": "execute_result"
    }
   ],
   "source": [
    "len(industry_wise_layoff_percentage_India)"
   ]
  },
  {
   "cell_type": "code",
   "execution_count": 93,
   "id": "7835538d",
   "metadata": {},
   "outputs": [
    {
     "data": {
      "text/plain": [
       "Industry\n",
       "Retail       0.177234\n",
       "Fitness      0.174070\n",
       "Media        0.131542\n",
       "Education    0.114536\n",
       "Food         0.078467\n",
       "dtype: float64"
      ]
     },
     "execution_count": 93,
     "metadata": {},
     "output_type": "execute_result"
    }
   ],
   "source": [
    "industry_wise_layoff_percentage_India_bottom_five = industry_wise_layoff_percentage_India[15:]\n",
    "industry_wise_layoff_percentage_India_bottom_five"
   ]
  },
  {
   "cell_type": "code",
   "execution_count": 94,
   "id": "43ec3765",
   "metadata": {},
   "outputs": [],
   "source": [
    "file_path = r'C:\\Recession_Analysis_Dataset\\India_industry_wise_layoff_percentage_bottom_five.csv'\n",
    "industry_wise_layoff_percentage_India_bottom_five.to_csv(file_path,index=True)"
   ]
  },
  {
   "cell_type": "code",
   "execution_count": 95,
   "id": "fd98762f",
   "metadata": {},
   "outputs": [
    {
     "data": {
      "text/plain": [
       "Location_HQ\n",
       "Ahmedabad    0.500000\n",
       "Noida        0.412275\n",
       "Chennai      0.321429\n",
       "Hyderabad    0.257984\n",
       "Indore       0.257984\n",
       "New Delhi    0.199639\n",
       "Gurugram     0.198658\n",
       "Mumbai       0.176558\n",
       "Bengaluru    0.127207\n",
       "Pune         0.110000\n",
       "Patna        0.050000\n",
       "dtype: float64"
      ]
     },
     "execution_count": 95,
     "metadata": {},
     "output_type": "execute_result"
    }
   ],
   "source": [
    "location_wise_layoff_percentage_India"
   ]
  },
  {
   "cell_type": "code",
   "execution_count": 96,
   "id": "557a7d5a",
   "metadata": {},
   "outputs": [
    {
     "data": {
      "text/plain": [
       "Location_HQ\n",
       "Ahmedabad    0.500000\n",
       "Noida        0.412275\n",
       "Chennai      0.321429\n",
       "Hyderabad    0.257984\n",
       "Indore       0.257984\n",
       "dtype: float64"
      ]
     },
     "execution_count": 96,
     "metadata": {},
     "output_type": "execute_result"
    }
   ],
   "source": [
    "location_wise_layoff_percentage_India_top_five = location_wise_layoff_percentage_India[:5]\n",
    "location_wise_layoff_percentage_India_top_five"
   ]
  },
  {
   "cell_type": "code",
   "execution_count": 97,
   "id": "f2e19862",
   "metadata": {},
   "outputs": [],
   "source": [
    "file_path = r'C:\\Recession_Analysis_Dataset\\India_location_wise_layoff_percentage_top_five.csv'\n",
    "location_wise_layoff_percentage_India_top_five.to_csv(file_path,index=True)"
   ]
  },
  {
   "cell_type": "code",
   "execution_count": 98,
   "id": "c8259e78",
   "metadata": {},
   "outputs": [
    {
     "data": {
      "text/plain": [
       "Location_HQ\n",
       "Gurugram     0.198658\n",
       "Mumbai       0.176558\n",
       "Bengaluru    0.127207\n",
       "Pune         0.110000\n",
       "Patna        0.050000\n",
       "dtype: float64"
      ]
     },
     "execution_count": 98,
     "metadata": {},
     "output_type": "execute_result"
    }
   ],
   "source": [
    "location_wise_layoff_percentage_India_bottom_five = location_wise_layoff_percentage_India[6:]\n",
    "location_wise_layoff_percentage_India_bottom_five"
   ]
  },
  {
   "cell_type": "code",
   "execution_count": 99,
   "id": "bc79aacf",
   "metadata": {},
   "outputs": [],
   "source": [
    "file_path = r'C:\\Recession_Analysis_Dataset\\India_location_wise_layoff_percentage_bottom_five.csv'\n",
    "location_wise_layoff_percentage_India_bottom_five.to_csv(file_path,index=True)"
   ]
  },
  {
   "cell_type": "code",
   "execution_count": 100,
   "id": "26a28956",
   "metadata": {},
   "outputs": [
    {
     "data": {
      "text/plain": [
       "Industry\n",
       "Other             0.297563\n",
       "Food              0.257984\n",
       "Travel            0.250000\n",
       "Marketing         0.150000\n",
       "Finance           0.144915\n",
       "Transportation    0.122881\n",
       "Healthcare        0.079268\n",
       "dtype: float64"
      ]
     },
     "execution_count": 100,
     "metadata": {},
     "output_type": "execute_result"
    }
   ],
   "source": [
    "industry_wise_layoff_percentage_Netherlands"
   ]
  },
  {
   "cell_type": "code",
   "execution_count": 101,
   "id": "70f651ba",
   "metadata": {},
   "outputs": [
    {
     "data": {
      "text/plain": [
       "Industry\n",
       "Other     0.297563\n",
       "Food      0.257984\n",
       "Travel    0.250000\n",
       "dtype: float64"
      ]
     },
     "execution_count": 101,
     "metadata": {},
     "output_type": "execute_result"
    }
   ],
   "source": [
    "industry_wise_layoff_percentage_Netherlands_top_three = industry_wise_layoff_percentage_Netherlands[:3]\n",
    "industry_wise_layoff_percentage_Netherlands_top_three"
   ]
  },
  {
   "cell_type": "code",
   "execution_count": 102,
   "id": "475092c3",
   "metadata": {},
   "outputs": [],
   "source": [
    "file_path = r'C:\\Recession_Analysis_Dataset\\Netherlands_industry_wise_layoff_percentage_top_three.csv'\n",
    "industry_wise_layoff_percentage_Netherlands_top_three.to_csv(file_path,index=True)"
   ]
  },
  {
   "cell_type": "code",
   "execution_count": 103,
   "id": "4a4f2e96",
   "metadata": {},
   "outputs": [
    {
     "data": {
      "text/plain": [
       "Industry\n",
       "Finance           0.144915\n",
       "Transportation    0.122881\n",
       "Healthcare        0.079268\n",
       "dtype: float64"
      ]
     },
     "execution_count": 103,
     "metadata": {},
     "output_type": "execute_result"
    }
   ],
   "source": [
    "industry_wise_layoff_percentage_Netherlands_bottom_three = industry_wise_layoff_percentage_Netherlands[4:]\n",
    "industry_wise_layoff_percentage_Netherlands_bottom_three"
   ]
  },
  {
   "cell_type": "code",
   "execution_count": 104,
   "id": "d1dcbb33",
   "metadata": {},
   "outputs": [],
   "source": [
    "file_path = r'C:\\Recession_Analysis_Dataset\\Netherlands_industry_wise_layoff_percentage_bottom_three.csv'\n",
    "industry_wise_layoff_percentage_Netherlands_bottom_three.to_csv(file_path,index=True)"
   ]
  },
  {
   "cell_type": "code",
   "execution_count": 105,
   "id": "c9a128ed",
   "metadata": {},
   "outputs": [
    {
     "data": {
      "text/plain": [
       "Location_HQ\n",
       "The Hague    0.257984\n",
       "Amsterdam    0.108546\n",
       "dtype: float64"
      ]
     },
     "execution_count": 105,
     "metadata": {},
     "output_type": "execute_result"
    }
   ],
   "source": [
    "location_wise_layoff_percentage_Netherlands"
   ]
  },
  {
   "cell_type": "code",
   "execution_count": 106,
   "id": "4a1be57f",
   "metadata": {},
   "outputs": [],
   "source": [
    "file_path = r'C:\\Recession_Analysis_Dataset\\Netherlands_location_wise_layoff_percentage.csv'\n",
    "location_wise_layoff_percentage_Netherlands.to_csv(file_path,index=True)"
   ]
  },
  {
   "cell_type": "code",
   "execution_count": 107,
   "id": "90a07bbc",
   "metadata": {},
   "outputs": [
    {
     "data": {
      "text/plain": [
       "Industry\n",
       "Product           1.000000\n",
       "Aerospace         0.850000\n",
       "Marketing         0.415105\n",
       "Retail            0.338853\n",
       "Crypto            0.284707\n",
       "Healthcare        0.271615\n",
       "Energy            0.257984\n",
       "Education         0.257984\n",
       "Real Estate       0.257984\n",
       "Data              0.257984\n",
       "Travel            0.250018\n",
       "Transportation    0.224581\n",
       "Media             0.175608\n",
       "Food              0.174044\n",
       "Other             0.166679\n",
       "Finance           0.158490\n",
       "HR                0.135803\n",
       "Security          0.078461\n",
       "Consumer          0.030240\n",
       "dtype: float64"
      ]
     },
     "execution_count": 107,
     "metadata": {},
     "output_type": "execute_result"
    }
   ],
   "source": [
    "industry_wise_layoff_percentage_United_Kingdom"
   ]
  },
  {
   "cell_type": "code",
   "execution_count": 108,
   "id": "f5a1e903",
   "metadata": {},
   "outputs": [
    {
     "data": {
      "text/plain": [
       "Industry\n",
       "Product      1.000000\n",
       "Aerospace    0.850000\n",
       "Marketing    0.415105\n",
       "Retail       0.338853\n",
       "Crypto       0.284707\n",
       "dtype: float64"
      ]
     },
     "execution_count": 108,
     "metadata": {},
     "output_type": "execute_result"
    }
   ],
   "source": [
    "industry_wise_layoff_percentage_United_Kingdom_top_five = industry_wise_layoff_percentage_United_Kingdom[:5]\n",
    "industry_wise_layoff_percentage_United_Kingdom_top_five"
   ]
  },
  {
   "cell_type": "code",
   "execution_count": 109,
   "id": "12503b24",
   "metadata": {},
   "outputs": [],
   "source": [
    "file_path = r'C:\\Recession_Analysis_Dataset\\United_Kingdom_industry_wise_layoff_percentage_top_five.csv'\n",
    "industry_wise_layoff_percentage_United_Kingdom_top_five.to_csv(file_path,index=True)"
   ]
  },
  {
   "cell_type": "code",
   "execution_count": 110,
   "id": "16477f10",
   "metadata": {},
   "outputs": [
    {
     "data": {
      "text/plain": [
       "19"
      ]
     },
     "execution_count": 110,
     "metadata": {},
     "output_type": "execute_result"
    }
   ],
   "source": [
    "len(industry_wise_layoff_percentage_United_Kingdom)"
   ]
  },
  {
   "cell_type": "code",
   "execution_count": 111,
   "id": "090277cb",
   "metadata": {},
   "outputs": [
    {
     "data": {
      "text/plain": [
       "Industry\n",
       "Other       0.166679\n",
       "Finance     0.158490\n",
       "HR          0.135803\n",
       "Security    0.078461\n",
       "Consumer    0.030240\n",
       "dtype: float64"
      ]
     },
     "execution_count": 111,
     "metadata": {},
     "output_type": "execute_result"
    }
   ],
   "source": [
    "industry_wise_layoff_percentage_United_Kingdom_bottom_five = industry_wise_layoff_percentage_United_Kingdom[14:]\n",
    "industry_wise_layoff_percentage_United_Kingdom_bottom_five"
   ]
  },
  {
   "cell_type": "code",
   "execution_count": 112,
   "id": "9c8c0b69",
   "metadata": {},
   "outputs": [],
   "source": [
    "file_path = r'C:\\Recession_Analysis_Dataset\\United_Kingdom_industry_wise_layoff_percentage_bottom_five.csv'\n",
    "industry_wise_layoff_percentage_United_Kingdom_bottom_five.to_csv(file_path,index=True)"
   ]
  },
  {
   "cell_type": "code",
   "execution_count": 113,
   "id": "008e4324",
   "metadata": {},
   "outputs": [
    {
     "data": {
      "text/plain": [
       "Location_HQ\n",
       "Bristol       0.214039\n",
       "Edinburgh     0.200000\n",
       "London        0.195638\n",
       "Chester       0.160000\n",
       "Manchester    0.070000\n",
       "dtype: float64"
      ]
     },
     "execution_count": 113,
     "metadata": {},
     "output_type": "execute_result"
    }
   ],
   "source": [
    "location_wise_layoff_percentage_United_Kingdom"
   ]
  },
  {
   "cell_type": "code",
   "execution_count": 114,
   "id": "8f604452",
   "metadata": {},
   "outputs": [],
   "source": [
    "file_path = r'C:\\Recession_Analysis_Dataset\\United_Kingdom_location_wise_layoff_percentage.csv'\n",
    "location_wise_layoff_percentage_United_Kingdom.to_csv(file_path,index=True)"
   ]
  },
  {
   "cell_type": "code",
   "execution_count": 115,
   "id": "91acd770",
   "metadata": {},
   "outputs": [
    {
     "data": {
      "text/plain": [
       "Industry\n",
       "Sales             0.400000\n",
       "Fitness           0.330000\n",
       "Travel            0.285564\n",
       "HR                0.257984\n",
       "Support           0.250000\n",
       "Education         0.218535\n",
       "Consumer          0.195509\n",
       "Healthcare        0.177668\n",
       "Retail            0.162380\n",
       "Recruiting        0.160000\n",
       "Marketing         0.136725\n",
       "Crypto            0.134118\n",
       "Finance           0.128575\n",
       "Transportation    0.114968\n",
       "Real Estate       0.106476\n",
       "Logistics         0.105000\n",
       "Other             0.099134\n",
       "Food              0.090773\n",
       "dtype: float64"
      ]
     },
     "execution_count": 115,
     "metadata": {},
     "output_type": "execute_result"
    }
   ],
   "source": [
    "industry_wise_layoff_percentage_Brazil"
   ]
  },
  {
   "cell_type": "code",
   "execution_count": 116,
   "id": "3a6cb049",
   "metadata": {},
   "outputs": [
    {
     "data": {
      "text/plain": [
       "Industry\n",
       "Sales      0.400000\n",
       "Fitness    0.330000\n",
       "Travel     0.285564\n",
       "HR         0.257984\n",
       "Support    0.250000\n",
       "dtype: float64"
      ]
     },
     "execution_count": 116,
     "metadata": {},
     "output_type": "execute_result"
    }
   ],
   "source": [
    "industry_wise_layoff_percentage_Brazil_top_five = industry_wise_layoff_percentage_Brazil[:5]\n",
    "industry_wise_layoff_percentage_Brazil_top_five"
   ]
  },
  {
   "cell_type": "code",
   "execution_count": 117,
   "id": "a8e28c60",
   "metadata": {},
   "outputs": [],
   "source": [
    "file_path = r'C:\\Recession_Analysis_Dataset\\Brazil_industry_wise_layoff_percentage_top_five.csv'\n",
    "industry_wise_layoff_percentage_Brazil_top_five.to_csv(file_path,index=True)"
   ]
  },
  {
   "cell_type": "code",
   "execution_count": 118,
   "id": "4b14792f",
   "metadata": {},
   "outputs": [
    {
     "data": {
      "text/plain": [
       "18"
      ]
     },
     "execution_count": 118,
     "metadata": {},
     "output_type": "execute_result"
    }
   ],
   "source": [
    "len(industry_wise_layoff_percentage_Brazil)"
   ]
  },
  {
   "cell_type": "code",
   "execution_count": 119,
   "id": "80236251",
   "metadata": {},
   "outputs": [
    {
     "data": {
      "text/plain": [
       "Industry\n",
       "Transportation    0.114968\n",
       "Real Estate       0.106476\n",
       "Logistics         0.105000\n",
       "Other             0.099134\n",
       "Food              0.090773\n",
       "dtype: float64"
      ]
     },
     "execution_count": 119,
     "metadata": {},
     "output_type": "execute_result"
    }
   ],
   "source": [
    "industry_wise_layoff_percentage_Brazil_bottom_five = industry_wise_layoff_percentage_Brazil[13:]\n",
    "industry_wise_layoff_percentage_Brazil_bottom_five"
   ]
  },
  {
   "cell_type": "code",
   "execution_count": 120,
   "id": "f5330295",
   "metadata": {},
   "outputs": [],
   "source": [
    "file_path = r'C:\\Recession_Analysis_Dataset\\Brazil_industry_wise_layoff_percentage_bottom_five.csv'\n",
    "industry_wise_layoff_percentage_Brazil_bottom_five.to_csv(file_path,index=True)"
   ]
  },
  {
   "cell_type": "code",
   "execution_count": 121,
   "id": "08cacc9a",
   "metadata": {},
   "outputs": [
    {
     "data": {
      "text/plain": [
       "Location_HQ\n",
       "Joinville         0.362085\n",
       "Porto Alegre      0.257984\n",
       "Blumenau          0.254749\n",
       "Brasilia          0.200000\n",
       "Florianópolis     0.180000\n",
       "Belo Horizonte    0.177106\n",
       "Curitiba          0.164825\n",
       "Sao Paulo         0.125348\n",
       "dtype: float64"
      ]
     },
     "execution_count": 121,
     "metadata": {},
     "output_type": "execute_result"
    }
   ],
   "source": [
    "location_wise_layoff_percentage_Brazil"
   ]
  },
  {
   "cell_type": "code",
   "execution_count": 122,
   "id": "bb98d2bf",
   "metadata": {},
   "outputs": [
    {
     "data": {
      "text/plain": [
       "Location_HQ\n",
       "Joinville       0.362085\n",
       "Porto Alegre    0.257984\n",
       "Blumenau        0.254749\n",
       "Brasilia        0.200000\n",
       "dtype: float64"
      ]
     },
     "execution_count": 122,
     "metadata": {},
     "output_type": "execute_result"
    }
   ],
   "source": [
    "location_wise_layoff_percentage_Brazil_top_four = location_wise_layoff_percentage_Brazil[:4]\n",
    "location_wise_layoff_percentage_Brazil_top_four"
   ]
  },
  {
   "cell_type": "code",
   "execution_count": 123,
   "id": "920e92d2",
   "metadata": {},
   "outputs": [],
   "source": [
    "file_path = r'C:\\Recession_Analysis_Dataset\\Brazil_location_wise_layoff_percentage_top_four.csv'\n",
    "location_wise_layoff_percentage_Brazil_top_four.to_csv(file_path,index=True)"
   ]
  },
  {
   "cell_type": "code",
   "execution_count": 124,
   "id": "3c96ec27",
   "metadata": {},
   "outputs": [
    {
     "data": {
      "text/plain": [
       "Location_HQ\n",
       "Florianópolis     0.180000\n",
       "Belo Horizonte    0.177106\n",
       "Curitiba          0.164825\n",
       "Sao Paulo         0.125348\n",
       "dtype: float64"
      ]
     },
     "execution_count": 124,
     "metadata": {},
     "output_type": "execute_result"
    }
   ],
   "source": [
    "location_wise_layoff_percentage_Brazil_bottom_four = location_wise_layoff_percentage_Brazil[4:]\n",
    "location_wise_layoff_percentage_Brazil_bottom_four"
   ]
  },
  {
   "cell_type": "code",
   "execution_count": 125,
   "id": "82e3023c",
   "metadata": {},
   "outputs": [],
   "source": [
    "file_path = r'C:\\Recession_Analysis_Dataset\\Brazil_location_wise_layoff_percentage_bottom_four.csv'\n",
    "location_wise_layoff_percentage_Brazil_bottom_four.to_csv(file_path,index=True)"
   ]
  },
  {
   "cell_type": "code",
   "execution_count": 126,
   "id": "b12d3376",
   "metadata": {},
   "outputs": [],
   "source": [
    "file_path = r'C:\\Recession_Analysis_Dataset\\Country_wise_laid_off_count_top_five.csv'\n",
    "country_laid_off_counts_top_five.to_csv(file_path,index=True)"
   ]
  },
  {
   "cell_type": "code",
   "execution_count": 127,
   "id": "3703c738",
   "metadata": {},
   "outputs": [
    {
     "data": {
      "text/plain": [
       "Location_HQ\n",
       "SF Bay Area      190592.488166\n",
       "Seattle           52312.180473\n",
       "New York City     49802.952663\n",
       "Bengaluru         25565.192308\n",
       "Boston            20946.576923\n",
       "Amsterdam         18157.597633\n",
       "Los Angeles       16332.177515\n",
       "London            16258.982249\n",
       "Austin            15269.390533\n",
       "Stockholm         12249.597633\n",
       "Name: Laid_Off_Count, dtype: float64"
      ]
     },
     "execution_count": 127,
     "metadata": {},
     "output_type": "execute_result"
    }
   ],
   "source": [
    "location_laid_off_counts_top_10 = location_laid_off_counts[:10]\n",
    "location_laid_off_counts_top_10"
   ]
  },
  {
   "cell_type": "code",
   "execution_count": 128,
   "id": "02c03070",
   "metadata": {},
   "outputs": [],
   "source": [
    "file_path = r'C:\\Recession_Analysis_Dataset\\Headquarter_Location_laid_off_count_top_10.csv'\n",
    "location_laid_off_counts_top_10.to_csv(file_path,index=True)"
   ]
  },
  {
   "cell_type": "code",
   "execution_count": 129,
   "id": "611013eb",
   "metadata": {},
   "outputs": [
    {
     "data": {
      "text/plain": [
       "Industry\n",
       "Retail            70854.760355\n",
       "Consumer          65045.979290\n",
       "Finance           53048.346154\n",
       "Other             50747.769231\n",
       "Transportation    46659.976331\n",
       "Healthcare        43636.961538\n",
       "Food              37501.772189\n",
       "Real Estate       29012.973373\n",
       "Hardware          26988.795858\n",
       "Travel            22246.988166\n",
       "Name: Laid_Off_Count, dtype: float64"
      ]
     },
     "execution_count": 129,
     "metadata": {},
     "output_type": "execute_result"
    }
   ],
   "source": [
    "industry_laid_off_counts_top_10 = industry_laid_off_counts[:10]\n",
    "industry_laid_off_counts_top_10"
   ]
  },
  {
   "cell_type": "code",
   "execution_count": 130,
   "id": "136e3ba3",
   "metadata": {},
   "outputs": [],
   "source": [
    "file_path = r'C:\\Recession_Analysis_Dataset\\Industry_laid_off_count_top_10.csv'\n",
    "industry_laid_off_counts_top_10.to_csv(file_path,index=True)"
   ]
  },
  {
   "cell_type": "code",
   "execution_count": 131,
   "id": "14d90965",
   "metadata": {},
   "outputs": [
    {
     "data": {
      "text/html": [
       "<div>\n",
       "<style scoped>\n",
       "    .dataframe tbody tr th:only-of-type {\n",
       "        vertical-align: middle;\n",
       "    }\n",
       "\n",
       "    .dataframe tbody tr th {\n",
       "        vertical-align: top;\n",
       "    }\n",
       "\n",
       "    .dataframe thead th {\n",
       "        text-align: right;\n",
       "    }\n",
       "</style>\n",
       "<table border=\"1\" class=\"dataframe\">\n",
       "  <thead>\n",
       "    <tr style=\"text-align: right;\">\n",
       "      <th></th>\n",
       "      <th>Company</th>\n",
       "      <th>Location_HQ</th>\n",
       "      <th>Industry</th>\n",
       "      <th>Laid_Off_Count</th>\n",
       "      <th>Percentage</th>\n",
       "      <th>Date</th>\n",
       "      <th>Funds_Raised</th>\n",
       "      <th>Stage</th>\n",
       "      <th>Country</th>\n",
       "      <th>employee_count</th>\n",
       "      <th>Benefit</th>\n",
       "    </tr>\n",
       "  </thead>\n",
       "  <tbody>\n",
       "    <tr>\n",
       "      <th>1084</th>\n",
       "      <td>Netflix</td>\n",
       "      <td>SF Bay Area</td>\n",
       "      <td>Media</td>\n",
       "      <td>30.0</td>\n",
       "      <td>0.257984</td>\n",
       "      <td>2022-09-14</td>\n",
       "      <td>121900.0</td>\n",
       "      <td>Post-IPO</td>\n",
       "      <td>United States</td>\n",
       "      <td>1.162864e+04</td>\n",
       "      <td>4.725102e+05</td>\n",
       "    </tr>\n",
       "    <tr>\n",
       "      <th>1504</th>\n",
       "      <td>Netflix</td>\n",
       "      <td>SF Bay Area</td>\n",
       "      <td>Media</td>\n",
       "      <td>300.0</td>\n",
       "      <td>0.030000</td>\n",
       "      <td>2022-06-23</td>\n",
       "      <td>121900.0</td>\n",
       "      <td>Post-IPO</td>\n",
       "      <td>United States</td>\n",
       "      <td>1.000000e+06</td>\n",
       "      <td>4.063333e+06</td>\n",
       "    </tr>\n",
       "    <tr>\n",
       "      <th>1693</th>\n",
       "      <td>Netflix</td>\n",
       "      <td>SF Bay Area</td>\n",
       "      <td>Media</td>\n",
       "      <td>150.0</td>\n",
       "      <td>0.010000</td>\n",
       "      <td>2022-05-17</td>\n",
       "      <td>121900.0</td>\n",
       "      <td>Post-IPO</td>\n",
       "      <td>United States</td>\n",
       "      <td>1.500000e+06</td>\n",
       "      <td>1.219000e+07</td>\n",
       "    </tr>\n",
       "    <tr>\n",
       "      <th>1728</th>\n",
       "      <td>Netflix</td>\n",
       "      <td>SF Bay Area</td>\n",
       "      <td>Media</td>\n",
       "      <td>25.0</td>\n",
       "      <td>0.257984</td>\n",
       "      <td>2022-04-28</td>\n",
       "      <td>121900.0</td>\n",
       "      <td>Post-IPO</td>\n",
       "      <td>United States</td>\n",
       "      <td>9.690530e+03</td>\n",
       "      <td>4.725102e+05</td>\n",
       "    </tr>\n",
       "  </tbody>\n",
       "</table>\n",
       "</div>"
      ],
      "text/plain": [
       "      Company  Location_HQ Industry  Laid_Off_Count  Percentage       Date  \\\n",
       "1084  Netflix  SF Bay Area    Media            30.0    0.257984 2022-09-14   \n",
       "1504  Netflix  SF Bay Area    Media           300.0    0.030000 2022-06-23   \n",
       "1693  Netflix  SF Bay Area    Media           150.0    0.010000 2022-05-17   \n",
       "1728  Netflix  SF Bay Area    Media            25.0    0.257984 2022-04-28   \n",
       "\n",
       "      Funds_Raised     Stage        Country  employee_count       Benefit  \n",
       "1084      121900.0  Post-IPO  United States    1.162864e+04  4.725102e+05  \n",
       "1504      121900.0  Post-IPO  United States    1.000000e+06  4.063333e+06  \n",
       "1693      121900.0  Post-IPO  United States    1.500000e+06  1.219000e+07  \n",
       "1728      121900.0  Post-IPO  United States    9.690530e+03  4.725102e+05  "
      ]
     },
     "execution_count": 131,
     "metadata": {},
     "output_type": "execute_result"
    }
   ],
   "source": [
    "Netflix_dataset = dataset_copy_2[dataset_copy_2['Company']=='Netflix']\n",
    "Netflix_dataset"
   ]
  },
  {
   "cell_type": "code",
   "execution_count": 132,
   "id": "bfacb4a1",
   "metadata": {},
   "outputs": [
    {
     "data": {
      "text/html": [
       "<div>\n",
       "<style scoped>\n",
       "    .dataframe tbody tr th:only-of-type {\n",
       "        vertical-align: middle;\n",
       "    }\n",
       "\n",
       "    .dataframe tbody tr th {\n",
       "        vertical-align: top;\n",
       "    }\n",
       "\n",
       "    .dataframe thead th {\n",
       "        text-align: right;\n",
       "    }\n",
       "</style>\n",
       "<table border=\"1\" class=\"dataframe\">\n",
       "  <thead>\n",
       "    <tr style=\"text-align: right;\">\n",
       "      <th></th>\n",
       "      <th>Company</th>\n",
       "      <th>Location_HQ</th>\n",
       "      <th>Industry</th>\n",
       "      <th>Laid_Off_Count</th>\n",
       "      <th>Percentage</th>\n",
       "      <th>Date</th>\n",
       "      <th>Funds_Raised</th>\n",
       "      <th>Stage</th>\n",
       "      <th>Country</th>\n",
       "      <th>employee_count</th>\n",
       "      <th>Benefit</th>\n",
       "    </tr>\n",
       "  </thead>\n",
       "  <tbody>\n",
       "    <tr>\n",
       "      <th>1623</th>\n",
       "      <td>Tesla</td>\n",
       "      <td>Austin</td>\n",
       "      <td>Transportation</td>\n",
       "      <td>254.399408</td>\n",
       "      <td>0.1</td>\n",
       "      <td>2022-06-03</td>\n",
       "      <td>20200.0</td>\n",
       "      <td>Post-IPO</td>\n",
       "      <td>United States</td>\n",
       "      <td>254399.408284</td>\n",
       "      <td>202000.0</td>\n",
       "    </tr>\n",
       "  </tbody>\n",
       "</table>\n",
       "</div>"
      ],
      "text/plain": [
       "     Company Location_HQ        Industry  Laid_Off_Count  Percentage  \\\n",
       "1623   Tesla      Austin  Transportation      254.399408         0.1   \n",
       "\n",
       "           Date  Funds_Raised     Stage        Country  employee_count  \\\n",
       "1623 2022-06-03       20200.0  Post-IPO  United States   254399.408284   \n",
       "\n",
       "       Benefit  \n",
       "1623  202000.0  "
      ]
     },
     "execution_count": 132,
     "metadata": {},
     "output_type": "execute_result"
    }
   ],
   "source": [
    "Tesla_dataset = dataset_copy_2[dataset_copy_2['Company']=='Tesla']\n",
    "Tesla_dataset"
   ]
  },
  {
   "cell_type": "code",
   "execution_count": 133,
   "id": "68dec95c",
   "metadata": {},
   "outputs": [
    {
     "data": {
      "text/html": [
       "<div>\n",
       "<style scoped>\n",
       "    .dataframe tbody tr th:only-of-type {\n",
       "        vertical-align: middle;\n",
       "    }\n",
       "\n",
       "    .dataframe tbody tr th {\n",
       "        vertical-align: top;\n",
       "    }\n",
       "\n",
       "    .dataframe thead th {\n",
       "        text-align: right;\n",
       "    }\n",
       "</style>\n",
       "<table border=\"1\" class=\"dataframe\">\n",
       "  <thead>\n",
       "    <tr style=\"text-align: right;\">\n",
       "      <th></th>\n",
       "      <th>Company</th>\n",
       "      <th>Location_HQ</th>\n",
       "      <th>Industry</th>\n",
       "      <th>Laid_Off_Count</th>\n",
       "      <th>Percentage</th>\n",
       "      <th>Date</th>\n",
       "      <th>Funds_Raised</th>\n",
       "      <th>Stage</th>\n",
       "      <th>Country</th>\n",
       "      <th>employee_count</th>\n",
       "      <th>Benefit</th>\n",
       "    </tr>\n",
       "  </thead>\n",
       "  <tbody>\n",
       "    <tr>\n",
       "      <th>1939</th>\n",
       "      <td>Grab</td>\n",
       "      <td>Singapore</td>\n",
       "      <td>Transportation</td>\n",
       "      <td>360.0</td>\n",
       "      <td>0.05</td>\n",
       "      <td>2020-06-16</td>\n",
       "      <td>9900.0</td>\n",
       "      <td>Series I</td>\n",
       "      <td>Singapore</td>\n",
       "      <td>720000.0</td>\n",
       "      <td>198000.0</td>\n",
       "    </tr>\n",
       "  </tbody>\n",
       "</table>\n",
       "</div>"
      ],
      "text/plain": [
       "     Company Location_HQ        Industry  Laid_Off_Count  Percentage  \\\n",
       "1939    Grab   Singapore  Transportation           360.0        0.05   \n",
       "\n",
       "           Date  Funds_Raised     Stage    Country  employee_count   Benefit  \n",
       "1939 2020-06-16        9900.0  Series I  Singapore        720000.0  198000.0  "
      ]
     },
     "execution_count": 133,
     "metadata": {},
     "output_type": "execute_result"
    }
   ],
   "source": [
    "Grab_Company_dataset = dataset_copy_2[dataset_copy_2['Company']=='Grab']\n",
    "Grab_Company_dataset"
   ]
  },
  {
   "cell_type": "code",
   "execution_count": 134,
   "id": "108c6628",
   "metadata": {},
   "outputs": [
    {
     "data": {
      "text/plain": [
       "Company\n",
       "Netflix    4.299588e+06\n",
       "Tesla      2.020000e+05\n",
       "Grab       1.980000e+05\n",
       "Rivian     1.705556e+05\n",
       "Meta       1.503908e+05\n",
       "Name: Benefit, dtype: float64"
      ]
     },
     "execution_count": 134,
     "metadata": {},
     "output_type": "execute_result"
    }
   ],
   "source": [
    "average_benefit_by_company_top_five = average_benefit_by_company[1:6]\n",
    "average_benefit_by_company_top_five"
   ]
  },
  {
   "cell_type": "code",
   "execution_count": 135,
   "id": "1f1ab878",
   "metadata": {},
   "outputs": [],
   "source": [
    "file_path = r'C:\\Recession_Analysis_Dataset\\average_benefit_by_company_top_five.csv'\n",
    "average_benefit_by_company_top_five.to_csv(file_path,index=True)"
   ]
  },
  {
   "cell_type": "code",
   "execution_count": 143,
   "id": "a9777a88",
   "metadata": {},
   "outputs": [
    {
     "name": "stdout",
     "output_type": "stream",
     "text": [
      "523897.44082840235\n"
     ]
    }
   ],
   "source": [
    "print(country_laid_off_counts[:5].sum())"
   ]
  },
  {
   "cell_type": "code",
   "execution_count": 144,
   "id": "c854532d",
   "metadata": {},
   "outputs": [
    {
     "name": "stdout",
     "output_type": "stream",
     "text": [
      "286356.83136094676\n"
     ]
    }
   ],
   "source": [
    "print(industry_laid_off_counts[:5].sum())"
   ]
  },
  {
   "cell_type": "code",
   "execution_count": 145,
   "id": "d3ec11b3",
   "metadata": {},
   "outputs": [
    {
     "name": "stdout",
     "output_type": "stream",
     "text": [
      "339219.3905325444\n"
     ]
    }
   ],
   "source": [
    "print(location_laid_off_counts[:5].sum())"
   ]
  },
  {
   "cell_type": "code",
   "execution_count": 146,
   "id": "7152b67c",
   "metadata": {},
   "outputs": [
    {
     "data": {
      "text/plain": [
       "Location_HQ\n",
       "SF Bay Area      190592.488166\n",
       "Seattle           52312.180473\n",
       "New York City     49802.952663\n",
       "Bengaluru         25565.192308\n",
       "Boston            20946.576923\n",
       "Name: Laid_Off_Count, dtype: float64"
      ]
     },
     "execution_count": 146,
     "metadata": {},
     "output_type": "execute_result"
    }
   ],
   "source": [
    "location_laid_off_counts[:5]"
   ]
  },
  {
   "cell_type": "code",
   "execution_count": 147,
   "id": "cd1e29d7",
   "metadata": {},
   "outputs": [
    {
     "data": {
      "text/plain": [
       "Industry\n",
       "Retail            70854.760355\n",
       "Consumer          65045.979290\n",
       "Finance           53048.346154\n",
       "Other             50747.769231\n",
       "Transportation    46659.976331\n",
       "Name: Laid_Off_Count, dtype: float64"
      ]
     },
     "execution_count": 147,
     "metadata": {},
     "output_type": "execute_result"
    }
   ],
   "source": [
    "industry_laid_off_counts[:5]"
   ]
  },
  {
   "cell_type": "code",
   "execution_count": 148,
   "id": "21dd0268",
   "metadata": {},
   "outputs": [
    {
     "data": {
      "text/plain": [
       "Country\n",
       "United States     432889.680473\n",
       "India              43569.585799\n",
       "Netherlands        18237.597633\n",
       "United Kingdom     16265.582840\n",
       "Brazil             12934.994083\n",
       "Name: Laid_Off_Count, dtype: float64"
      ]
     },
     "execution_count": 148,
     "metadata": {},
     "output_type": "execute_result"
    }
   ],
   "source": [
    "country_laid_off_counts[:5]"
   ]
  },
  {
   "cell_type": "code",
   "execution_count": null,
   "id": "4540b39b",
   "metadata": {},
   "outputs": [],
   "source": []
  }
 ],
 "metadata": {
  "kernelspec": {
   "display_name": "Python 3 (ipykernel)",
   "language": "python",
   "name": "python3"
  },
  "language_info": {
   "codemirror_mode": {
    "name": "ipython",
    "version": 3
   },
   "file_extension": ".py",
   "mimetype": "text/x-python",
   "name": "python",
   "nbconvert_exporter": "python",
   "pygments_lexer": "ipython3",
   "version": "3.9.7"
  }
 },
 "nbformat": 4,
 "nbformat_minor": 5
}
